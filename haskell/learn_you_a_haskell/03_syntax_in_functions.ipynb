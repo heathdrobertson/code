{
 "cells": [
  {
   "cell_type": "markdown",
   "metadata": {},
   "source": [
    "# Syntax in Functions\n",
    "__Chapter 03__"
   ]
  },
  {
   "cell_type": "markdown",
   "metadata": {},
   "source": [
    "## Pattern Matching"
   ]
  },
  {
   "cell_type": "code",
   "execution_count": 16,
   "metadata": {},
   "outputs": [],
   "source": [
    "lucky :: Int -> String\n",
    "lucky 7 = \"LUCKY NUMBER SEVEN!\"\n",
    "lucky x = \"Sorry, you're out of luck, \" ++ show x ++ \" aint it! \""
   ]
  },
  {
   "cell_type": "code",
   "execution_count": 17,
   "metadata": {},
   "outputs": [
    {
     "data": {
      "text/plain": [
       "\"LUCKY NUMBER SEVEN!\""
      ]
     },
     "metadata": {},
     "output_type": "display_data"
    },
    {
     "data": {
      "text/plain": [
       "\"Sorry, you're out of luck, 3 aint it! \""
      ]
     },
     "metadata": {},
     "output_type": "display_data"
    }
   ],
   "source": [
    "lucky 7\n",
    "lucky 3"
   ]
  },
  {
   "cell_type": "code",
   "execution_count": 19,
   "metadata": {},
   "outputs": [],
   "source": [
    "sayMe :: Int -> String\n",
    "sayMe 1 = \"One!\"\n",
    "sayMe 2 = \"Two!\"\n",
    "sayMe 3 = \"Three!\"\n",
    "sayMe 4 = \"Four!\"\n",
    "sayMe 5 = \"Five!\"\n",
    "sayMe x = \"Not between 1 and 5\""
   ]
  },
  {
   "cell_type": "code",
   "execution_count": 21,
   "metadata": {},
   "outputs": [
    {
     "data": {
      "text/plain": [
       "\"Not between 1 and 5\""
      ]
     },
     "metadata": {},
     "output_type": "display_data"
    },
    {
     "data": {
      "text/plain": [
       "\"Two!\""
      ]
     },
     "metadata": {},
     "output_type": "display_data"
    }
   ],
   "source": [
    "sayMe 9\n",
    "sayMe 2"
   ]
  },
  {
   "cell_type": "code",
   "execution_count": 29,
   "metadata": {},
   "outputs": [
    {
     "data": {
      "text/plain": [
       "720"
      ]
     },
     "metadata": {},
     "output_type": "display_data"
    }
   ],
   "source": [
    "-- A factorial fucntion recursively\n",
    "\n",
    "factorial :: Int -> Int\n",
    "factorial 0 = 1\n",
    "factorial n = n * factorial (n - 1)\n",
    "\n",
    "factorial 6"
   ]
  },
  {
   "cell_type": "code",
   "execution_count": 46,
   "metadata": {},
   "outputs": [
    {
     "data": {
      "text/plain": [
       "\"'h' is not a pattern.\""
      ]
     },
     "metadata": {},
     "output_type": "display_data"
    }
   ],
   "source": [
    "charName :: Char -> String\n",
    "charName 'a' = \"Albert\"\n",
    "charName 'b' = \"Broseph\"\n",
    "charName 'c' = \"Cecil\"\n",
    "charName x = show x ++ \" is not a pattern.\"\n",
    "charName 'h'"
   ]
  },
  {
   "cell_type": "markdown",
   "metadata": {},
   "source": [
    "### Pattern Matching with Tuples"
   ]
  },
  {
   "cell_type": "code",
   "execution_count": 47,
   "metadata": {},
   "outputs": [
    {
     "data": {
      "text/plain": [
       "(3.4,7.8)"
      ]
     },
     "metadata": {},
     "output_type": "display_data"
    }
   ],
   "source": [
    "addVectors :: (Double, Double) -> (Double, Double) -> (Double, Double)\n",
    "addVectors a b = (fst a + fst b, snd a + snd b)\n",
    "\n",
    "addVectors (1.1, 2.2) (2.3, 5.6)"
   ]
  },
  {
   "cell_type": "code",
   "execution_count": 48,
   "metadata": {},
   "outputs": [
    {
     "data": {
      "text/plain": [
       "(10.0,12.0)"
      ]
     },
     "metadata": {},
     "output_type": "display_data"
    }
   ],
   "source": [
    "-- Better Way to add vectors\n",
    "\n",
    "addVectors :: (Double, Double) -> (Double, Double) -> (Double, Double)\n",
    "addVectors (x1, y1) (x2, y2) = (x1 + x2, y1 + y2)\n",
    "\n",
    "addVectors (0.2, 0.6) (9.8, 11.4)"
   ]
  },
  {
   "cell_type": "code",
   "execution_count": 49,
   "metadata": {},
   "outputs": [
    {
     "data": {
      "text/plain": [
       "3"
      ]
     },
     "metadata": {},
     "output_type": "display_data"
    }
   ],
   "source": [
    "-- Making our own find trd function\n",
    "\n",
    "first :: (a, b, c) -> a\n",
    "first (x, _, _) = x\n",
    "\n",
    "second :: (a, b, c) -> b\n",
    "second (_, y, _) = y\n",
    "\n",
    "third :: (a, b, c) -> c\n",
    "third (_, _, z) = z\n",
    "\n",
    "third (1, 2, 3)"
   ]
  },
  {
   "cell_type": "markdown",
   "metadata": {},
   "source": [
    "### Pattern Matching wiht Lists & List Comprehensions"
   ]
  },
  {
   "cell_type": "code",
   "execution_count": 55,
   "metadata": {},
   "outputs": [
    {
     "data": {
      "text/plain": [
       "[300,4,7,6,8,11,4]"
      ]
     },
     "metadata": {},
     "output_type": "display_data"
    }
   ],
   "source": [
    "let xx = [(1,3),(4,3),(2,4),(5,3),(5,6),(3,1)]\n",
    "let xs = (200, 100):xx\n",
    "[a+b | (a,b) <- xs]"
   ]
  },
  {
   "cell_type": "code",
   "execution_count": 63,
   "metadata": {},
   "outputs": [
    {
     "data": {
      "text/plain": [
       "[1,2,3]"
      ]
     },
     "metadata": {},
     "output_type": "display_data"
    }
   ],
   "source": [
    "let myList = 1:2:3:[]\n",
    "myList"
   ]
  },
  {
   "cell_type": "code",
   "execution_count": 72,
   "metadata": {},
   "outputs": [
    {
     "data": {
      "text/plain": [
       "34"
      ]
     },
     "metadata": {},
     "output_type": "display_data"
    },
    {
     "data": {
      "text/plain": [
       "'H'"
      ]
     },
     "metadata": {},
     "output_type": "display_data"
    },
    {
     "ename": "",
     "evalue": "",
     "header": "MessageHeader {mhIdentifiers = [\"44654977-5bbe-4ef5-8024-9de250fa9e7d\"], mhParentHeader = Just (MessageHeader {mhIdentifiers = [\"44654977-5bbe-4ef5-8024-9de250fa9e7d\"], mhParentHeader = Nothing, mhMetadata = Metadata (fromList [(\"deletedCells\",Array []),(\"cellId\",String \"fe3d5cc0-76bf-4015-aa09-9a72dc7d949b\")]), mhMessageId = UUID {uuidToString = \"ca0bd594-992e-40be-9d61-6c16db78eb5e\"}, mhSessionId = UUID {uuidToString = \"44654977-5bbe-4ef5-8024-9de250fa9e7d\"}, mhUsername = \"\", mhMsgType = ExecuteRequestMessage}), mhMetadata = Metadata (fromList []), mhMessageId = UUID {uuidToString = \"4c77e135-6677-4a04-b201-f450ed458bb6\"}, mhSessionId = UUID {uuidToString = \"44654977-5bbe-4ef5-8024-9de250fa9e7d\"}, mhUsername = \"\", mhMsgType = ExecuteErrorMessage}",
     "output_type": "error",
     "traceback": [
      "Can't call head on an empty list, dummy!\nCallStack (from HasCallStack):\n  error, called at <interactive>:2:11 in interactive:Ghci2255"
     ]
    }
   ],
   "source": [
    "head' :: [a] -> a\n",
    "head'[] = error \"Can't call head on an empty list, dummy!\"\n",
    "head' (x:_) = x\n",
    "\n",
    "head' [34, 56, 12]\n",
    "head' \"Heath\"\n",
    "head' []"
   ]
  },
  {
   "cell_type": "code",
   "execution_count": 73,
   "metadata": {},
   "outputs": [
    {
     "data": {
      "text/plain": [
       "[400,100,200,300]"
      ]
     },
     "metadata": {},
     "output_type": "display_data"
    }
   ],
   "source": [
    "let xs = [1,2,3]\n",
    "let xl = [100,200,300]\n",
    "400:xl"
   ]
  },
  {
   "cell_type": "code",
   "execution_count": 91,
   "metadata": {},
   "outputs": [
    {
     "data": {
      "text/html": [
       "<style>/* Styles used for the Hoogle display in the pager */\n",
       ".hoogle-doc {\n",
       "display: block;\n",
       "padding-bottom: 1.3em;\n",
       "padding-left: 0.4em;\n",
       "}\n",
       ".hoogle-code {\n",
       "display: block;\n",
       "font-family: monospace;\n",
       "white-space: pre;\n",
       "}\n",
       ".hoogle-text {\n",
       "display: block;\n",
       "}\n",
       ".hoogle-name {\n",
       "color: green;\n",
       "font-weight: bold;\n",
       "}\n",
       ".hoogle-head {\n",
       "font-weight: bold;\n",
       "}\n",
       ".hoogle-sub {\n",
       "display: block;\n",
       "margin-left: 0.4em;\n",
       "}\n",
       ".hoogle-package {\n",
       "font-weight: bold;\n",
       "font-style: italic;\n",
       "}\n",
       ".hoogle-module {\n",
       "font-weight: bold;\n",
       "}\n",
       ".hoogle-class {\n",
       "font-weight: bold;\n",
       "}\n",
       ".get-type {\n",
       "color: green;\n",
       "font-weight: bold;\n",
       "font-family: monospace;\n",
       "display: block;\n",
       "white-space: pre-wrap;\n",
       "}\n",
       ".show-type {\n",
       "color: green;\n",
       "font-weight: bold;\n",
       "font-family: monospace;\n",
       "margin-left: 1em;\n",
       "}\n",
       ".mono {\n",
       "font-family: monospace;\n",
       "display: block;\n",
       "}\n",
       ".err-msg {\n",
       "color: red;\n",
       "font-style: italic;\n",
       "font-family: monospace;\n",
       "white-space: pre;\n",
       "display: block;\n",
       "}\n",
       "#unshowable {\n",
       "color: red;\n",
       "font-weight: bold;\n",
       "}\n",
       ".err-msg.in.collapse {\n",
       "padding-top: 0.7em;\n",
       "}\n",
       ".highlight-code {\n",
       "white-space: pre;\n",
       "font-family: monospace;\n",
       "}\n",
       ".suggestion-warning { \n",
       "font-weight: bold;\n",
       "color: rgb(200, 130, 0);\n",
       "}\n",
       ".suggestion-error { \n",
       "font-weight: bold;\n",
       "color: red;\n",
       "}\n",
       ".suggestion-name {\n",
       "font-weight: bold;\n",
       "}\n",
       "</style><div class=\"suggestion-name\" style=\"clear:both;\">Use list literal pattern</div><div class=\"suggestion-row\" style=\"float: left;\"><div class=\"suggestion-warning\">Found:</div><div class=\"highlight-code\" id=\"haskell\">(x : [])</div></div><div class=\"suggestion-row\" style=\"float: left;\"><div class=\"suggestion-warning\">Why Not:</div><div class=\"highlight-code\" id=\"haskell\">[x]</div></div><div class=\"suggestion-name\" style=\"clear:both;\">Use list literal pattern</div><div class=\"suggestion-row\" style=\"float: left;\"><div class=\"suggestion-warning\">Found:</div><div class=\"highlight-code\" id=\"haskell\">(x : (y : []))</div></div><div class=\"suggestion-row\" style=\"float: left;\"><div class=\"suggestion-warning\">Why Not:</div><div class=\"highlight-code\" id=\"haskell\">[x, y]</div></div>"
      ],
      "text/plain": [
       "Line 3: Use list literal pattern\n",
       "Found:\n",
       "(x : [])\n",
       "Why not:\n",
       "[x]Line 4: Use list literal pattern\n",
       "Found:\n",
       "(x : (y : []))\n",
       "Why not:\n",
       "[x, y]"
      ]
     },
     "metadata": {},
     "output_type": "display_data"
    },
    {
     "data": {
      "text/plain": [
       "\"this list has one element: 1\""
      ]
     },
     "metadata": {},
     "output_type": "display_data"
    },
    {
     "data": {
      "text/plain": [
       "\"the list has two elements: True and False\""
      ]
     },
     "metadata": {},
     "output_type": "display_data"
    },
    {
     "data": {
      "text/plain": [
       "\"the list has two elements: 34 and 55\""
      ]
     },
     "metadata": {},
     "output_type": "display_data"
    },
    {
     "data": {
      "text/plain": [
       "\"this list is long. the first thow elements are: 1 and 2\""
      ]
     },
     "metadata": {},
     "output_type": "display_data"
    },
    {
     "data": {
      "text/plain": [
       "\"this list is empty\""
      ]
     },
     "metadata": {},
     "output_type": "display_data"
    }
   ],
   "source": [
    "tell :: (Show a) => [a] -> String\n",
    "tell [] = \"this list is empty\"\n",
    "tell (x:[]) = \"this list has one element: \" ++ show x\n",
    "tell (x:y:[]) = \"the list has two elements: \" ++ show x ++ \" and \" ++ show y\n",
    "tell (x:y:_) = \"this list is long. the first thow elements are: \" ++ show x ++ \" and \" ++ show y\n",
    "\n",
    "tell [1]\n",
    "tell [True, False]\n",
    "tell [34, 55]\n",
    "tell [1,2,3,4]\n",
    "tell []"
   ]
  },
  {
   "cell_type": "markdown",
   "metadata": {},
   "source": [
    "### As-patterns"
   ]
  },
  {
   "cell_type": "code",
   "execution_count": 144,
   "metadata": {},
   "outputs": [
    {
     "data": {
      "text/plain": [
       "(1,2,[3,4])"
      ]
     },
     "metadata": {},
     "output_type": "display_data"
    }
   ],
   "source": [
    "moreBreaks :: [a] -> (a, a, [a])\n",
    "moreBreaks (x:y:xs) = (x, y, xs)\n",
    "\n",
    "moreBreaks [1, 2, 3, 4]"
   ]
  },
  {
   "cell_type": "code",
   "execution_count": 151,
   "metadata": {},
   "outputs": [
    {
     "data": {
      "text/plain": [
       "\"The first letter of **Heath is gonna do it!** is x = H and xs = eath is gonna do it!\""
      ]
     },
     "metadata": {},
     "output_type": "display_data"
    }
   ],
   "source": [
    "firstLetter :: String -> String\n",
    "firstLetter \"\" = \"Empty string, whoops!\"\n",
    "firstLetter all@(x:xs) = \"The first letter of **\" ++ all ++ \"** is x = \" ++ [x] ++ \" and xs = \" ++ xs\n",
    "\n",
    "firstLetter \"Heath is gonna do it!\""
   ]
  },
  {
   "cell_type": "markdown",
   "metadata": {},
   "source": [
    "## Guards Guards"
   ]
  },
  {
   "cell_type": "code",
   "execution_count": 160,
   "metadata": {},
   "outputs": [
    {
     "data": {
      "text/plain": [
       "\"Looking good.\""
      ]
     },
     "metadata": {},
     "output_type": "display_data"
    },
    {
     "data": {
      "text/plain": [
       "\"Underweight, eat!\""
      ]
     },
     "metadata": {},
     "output_type": "display_data"
    }
   ],
   "source": [
    "bmiTell :: Double -> String\n",
    "bmiTell bmi\n",
    "    | bmi <= 18.5 = \"Underweight, eat!\"\n",
    "    | bmi <= 25.0 = \"Looking good.\"\n",
    "    | bmi <= 30.0 = \"Overweight!\"\n",
    "    | otherwise   = \"You lose! Please play again.\"\n",
    " \n",
    "bmiTell 20.00\n",
    "bmiTell 17.00"
   ]
  },
  {
   "cell_type": "code",
   "execution_count": 167,
   "metadata": {},
   "outputs": [
    {
     "data": {
      "text/plain": [
       "\"Looking good.\""
      ]
     },
     "metadata": {},
     "output_type": "display_data"
    },
    {
     "data": {
      "text/plain": [
       "\"You lose! Please play again.\""
      ]
     },
     "metadata": {},
     "output_type": "display_data"
    }
   ],
   "source": [
    "bmiTellSo :: Double -> Double-> String\n",
    "bmiTellSo weight height\n",
    "    | weight / height^2 <= 18.5 = \"Underweight, eat!\"\n",
    "    | weight / height^2 <= 25.0 = \"Looking good.\"\n",
    "    | weight / height^2 <= 30.0 = \"Overweight!\"\n",
    "    | otherwise   = \"You lose! Please play again.\"\n",
    " \n",
    "bmiTellSo 85 1.9\n",
    "bmiTellSo 189 1.3\n"
   ]
  },
  {
   "cell_type": "code",
   "execution_count": 174,
   "metadata": {},
   "outputs": [
    {
     "ename": "",
     "evalue": "",
     "header": "MessageHeader {mhIdentifiers = [\"44654977-5bbe-4ef5-8024-9de250fa9e7d\"], mhParentHeader = Just (MessageHeader {mhIdentifiers = [\"44654977-5bbe-4ef5-8024-9de250fa9e7d\"], mhParentHeader = Nothing, mhMetadata = Metadata (fromList [(\"deletedCells\",Array []),(\"cellId\",String \"51d8f802-4c9e-4f22-9bc1-5370121c4072\")]), mhMessageId = UUID {uuidToString = \"1e6552d7-3a91-4419-838e-89f2d73489cd\"}, mhSessionId = UUID {uuidToString = \"44654977-5bbe-4ef5-8024-9de250fa9e7d\"}, mhUsername = \"\", mhMsgType = ExecuteRequestMessage}), mhMetadata = Metadata (fromList []), mhMessageId = UUID {uuidToString = \"57f5a190-a4e8-4cb3-bb7b-688482bdf7f6\"}, mhSessionId = UUID {uuidToString = \"44654977-5bbe-4ef5-8024-9de250fa9e7d\"}, mhUsername = \"\", mhMsgType = ExecuteErrorMessage}",
     "output_type": "error",
     "traceback": [
      "<interactive>:1:1: error: Illegal type signature: ‘(Ord a) => a -> a -> a max' a b’ Type signatures are only allowed in patterns with ScopedTypeVariables"
     ]
    }
   ],
   "source": [
    "-- This seems to be broken in to book, can you figure out why?\n",
    "\n",
    "max' :: (Ord a) => a -> a -> a max' a b\n",
    "    | a <= b    = b\n",
    "    | otherwise = a\n",
    "\n",
    "max' 1 2"
   ]
  },
  {
   "cell_type": "code",
   "execution_count": 177,
   "metadata": {},
   "outputs": [
    {
     "data": {
      "text/plain": [
       "EQ"
      ]
     },
     "metadata": {},
     "output_type": "display_data"
    }
   ],
   "source": [
    "myCompare :: (Ord a) => a -> a -> Ordering\n",
    "a `myCompare` b\n",
    "    | a == b    = EQ\n",
    "    | a <= b    = LT\n",
    "    | otherwise = GT\n",
    "\n",
    "3 `myCompare` 3"
   ]
  },
  {
   "cell_type": "markdown",
   "metadata": {},
   "source": [
    "## **`where`**?!"
   ]
  },
  {
   "cell_type": "code",
   "execution_count": 190,
   "metadata": {},
   "outputs": [
    {
     "data": {
      "text/plain": [
       "\"Looking good.\""
      ]
     },
     "metadata": {},
     "output_type": "display_data"
    },
    {
     "data": {
      "text/plain": [
       "\"You lose! Please play again.\""
      ]
     },
     "metadata": {},
     "output_type": "display_data"
    }
   ],
   "source": [
    "bmiTellSo :: Double -> Double-> String\n",
    "bmiTellSo weight height\n",
    "    | bmi <= 18.5 = \"Underweight, eat!\"\n",
    "    | bmi <= 25.0 = \"Looking good.\"\n",
    "    | bmi <= 30.0 = \"Overweight!\"\n",
    "    | otherwise   = \"You lose! Please play again.\"\n",
    "    where bmi = weight / height^2\n",
    " \n",
    "bmiTellSo 85 1.9\n",
    "bmiTellSo 189 1.3"
   ]
  },
  {
   "cell_type": "markdown",
   "metadata": {},
   "source": [
    "### **`where`**'s Scope"
   ]
  },
  {
   "cell_type": "code",
   "execution_count": 205,
   "metadata": {},
   "outputs": [
    {
     "data": {
      "text/plain": [
       "\"Hello! So very nice to see you, Juan!\""
      ]
     },
     "metadata": {},
     "output_type": "display_data"
    },
    {
     "data": {
      "text/plain": [
       "\"Oh! Pfft. It's you. Heath\""
      ]
     },
     "metadata": {},
     "output_type": "display_data"
    }
   ],
   "source": [
    "badGreeting :: String\n",
    "badGreeting = \"Oh! Pfft. It's you.\"\n",
    "\n",
    "niceGreeting :: String\n",
    "niceGreeting = \"Hello! So very nice to see you,\"\n",
    "\n",
    "greet :: String -> String\n",
    "greet \"Juan\" = niceGreeting ++ \" Juan!\"\n",
    "greet \"Fernando\" = niceGreeting ++ \" Fernando!\"\n",
    "greet name = badGreeting ++ \" \" ++ name\n",
    "\n",
    "greet \"Juan\"\n",
    "greet \"Heath\""
   ]
  },
  {
   "cell_type": "code",
   "execution_count": 219,
   "metadata": {},
   "outputs": [
    {
     "data": {
      "text/plain": [
       "\"H. R.\""
      ]
     },
     "metadata": {},
     "output_type": "display_data"
    }
   ],
   "source": [
    "initials :: String -> String -> String\n",
    "initials firstname lastname = [f] ++ \". \" ++ [l] ++ \".\"\n",
    "    where (f:_) = firstname\n",
    "          (l:_) = lastname\n",
    "\n",
    "initials \"Heath\" \"Robertson\""
   ]
  },
  {
   "cell_type": "code",
   "execution_count": 222,
   "metadata": {},
   "outputs": [
    {
     "data": {
      "text/plain": [
       "\"H. R.\""
      ]
     },
     "metadata": {},
     "output_type": "display_data"
    }
   ],
   "source": [
    "-- this is a more succinct way to write the above function\n",
    "\n",
    "initials :: String -> String -> String\n",
    "initials (f:firstname) (l:lastname) = [f] ++ \". \" ++ [l] ++ \".\"\n",
    "\n",
    "initials \"Heath\" \"Robertson\""
   ]
  },
  {
   "cell_type": "code",
   "execution_count": 224,
   "metadata": {},
   "outputs": [
    {
     "data": {
      "text/plain": [
       "[38.19444444444444,64.46280991735536,39.64497041420118]"
      ]
     },
     "metadata": {},
     "output_type": "display_data"
    }
   ],
   "source": [
    "calcBmis :: [(Double, Double)] -> [Double]\n",
    "calcBmis xs = [bmi w h | (w, h) <- xs]\n",
    "    where bmi weight height = weight / height^2 \n",
    "\n",
    "calcBmis [(55, 1.2), (78, 1.1), (67, 1.3)]"
   ]
  },
  {
   "cell_type": "markdown",
   "metadata": {},
   "source": [
    "## **`let`** It Be"
   ]
  },
  {
   "cell_type": "code",
   "execution_count": 227,
   "metadata": {},
   "outputs": [
    {
     "data": {
      "text/plain": [
       "75.39822368615503"
      ]
     },
     "metadata": {},
     "output_type": "display_data"
    }
   ],
   "source": [
    "cylinder :: Double -> Double -> Double\n",
    "cylinder r h = \n",
    "    let sideArea = 2 * pi * r * h\n",
    "        topArea = pi * r^2\n",
    "    in sideArea + 2 * topArea\n",
    "\n",
    "cylinder 2 4"
   ]
  },
  {
   "cell_type": "code",
   "execution_count": 231,
   "metadata": {},
   "outputs": [
    {
     "data": {
      "text/plain": [
       "42"
      ]
     },
     "metadata": {},
     "output_type": "display_data"
    }
   ],
   "source": [
    "4 * (let a = 9 in a + 1) + 2"
   ]
  },
  {
   "cell_type": "code",
   "execution_count": 233,
   "metadata": {},
   "outputs": [
    {
     "data": {
      "text/plain": [
       "[(25,9,4)]"
      ]
     },
     "metadata": {},
     "output_type": "display_data"
    }
   ],
   "source": [
    "[let square x = x * x in (square 5, square 3, square 2)]"
   ]
  },
  {
   "cell_type": "code",
   "execution_count": 236,
   "metadata": {},
   "outputs": [
    {
     "data": {
      "text/plain": [
       "(6000000,\"Hey there!\")"
      ]
     },
     "metadata": {},
     "output_type": "display_data"
    }
   ],
   "source": [
    "(let a = 100; b = 200; c = 300 in a*b*c, let foo = \"Hey \"; bar = \"there!\" in foo ++ bar)"
   ]
  },
  {
   "cell_type": "code",
   "execution_count": 240,
   "metadata": {},
   "outputs": [
    {
     "data": {
      "text/plain": [
       "600"
      ]
     },
     "metadata": {},
     "output_type": "display_data"
    }
   ],
   "source": [
    "(let (a, b, c) = (1, 2, 3) in a + b +c) * 100"
   ]
  },
  {
   "cell_type": "markdown",
   "metadata": {},
   "source": [
    "### **`let`** in List Comprehensions"
   ]
  },
  {
   "cell_type": "code",
   "execution_count": 241,
   "metadata": {},
   "outputs": [
    {
     "data": {
      "text/plain": [
       "[38.19444444444444,64.46280991735536,39.64497041420118]"
      ]
     },
     "metadata": {},
     "output_type": "display_data"
    }
   ],
   "source": [
    "calcBmis :: [(Double, Double)] -> [Double]\n",
    "calcBmis xs = [bmi | (w, h) <- xs, let bmi = w / h^2]\n",
    "\n",
    "calcBmis [(55, 1.2), (78, 1.1), (67, 1.3)]"
   ]
  },
  {
   "cell_type": "code",
   "execution_count": 255,
   "metadata": {},
   "outputs": [
    {
     "data": {
      "text/plain": [
       "[20.0,17.77777777777778]"
      ]
     },
     "metadata": {},
     "output_type": "display_data"
    }
   ],
   "source": [
    "-- Adding a filter to return only health BMIs\n",
    "\n",
    "calcBmis :: [(Double, Double)] -> [Double]\n",
    "calcBmis xs = [bmi | (w, h) <- xs, let bmi = w / h^2, bmi >= 17.0 && bmi <= 25.0]\n",
    "\n",
    "calcBmis [(55, 1.2), (78, 1.1), (67, 1.3), (45, 1.5), (40, 1.5)]\n"
   ]
  },
  {
   "cell_type": "markdown",
   "metadata": {},
   "source": [
    "### **`let`** in GHCi"
   ]
  },
  {
   "cell_type": "code",
   "execution_count": 252,
   "metadata": {},
   "outputs": [],
   "source": [
    "let zoot x y z = x * y * z"
   ]
  },
  {
   "cell_type": "code",
   "execution_count": 254,
   "metadata": {},
   "outputs": [
    {
     "data": {
      "text/plain": [
       "54"
      ]
     },
     "metadata": {},
     "output_type": "display_data"
    }
   ],
   "source": [
    "zoot 3 9 2"
   ]
  },
  {
   "cell_type": "markdown",
   "metadata": {},
   "source": [
    "## **`case`** Expressions"
   ]
  },
  {
   "cell_type": "code",
   "execution_count": 265,
   "metadata": {},
   "outputs": [
    {
     "data": {
      "text/plain": [
       "'a'"
      ]
     },
     "metadata": {},
     "output_type": "display_data"
    }
   ],
   "source": [
    "head' :: [a] -> a\n",
    "head' [] = error \"No head for empty lists!\"\n",
    "head' (x:_) = x\n",
    "\n",
    "head' ['a', 'x', 'f']"
   ]
  },
  {
   "cell_type": "code",
   "execution_count": 273,
   "metadata": {},
   "outputs": [
    {
     "data": {
      "text/plain": [
       "'a'"
      ]
     },
     "metadata": {},
     "output_type": "display_data"
    }
   ],
   "source": [
    "reHead :: [a] -> a\n",
    "reHead xs = case xs of \n",
    "                [] -> error \"No head for empty lists!\"\n",
    "                (x:_) -> x\n",
    "\n",
    "reHead ['a', 'x', 'f']"
   ]
  },
  {
   "cell_type": "code",
   "execution_count": 282,
   "metadata": {},
   "outputs": [
    {
     "data": {
      "text/plain": [
       "\"The list is empty.\""
      ]
     },
     "metadata": {},
     "output_type": "display_data"
    },
    {
     "data": {
      "text/plain": [
       "\"The list is a singleton list.\""
      ]
     },
     "metadata": {},
     "output_type": "display_data"
    },
    {
     "data": {
      "text/plain": [
       "\"The list is a longer list.\""
      ]
     },
     "metadata": {},
     "output_type": "display_data"
    }
   ],
   "source": [
    "describeList :: [a] -> String\n",
    "describeList ls = \"The list is \" ++ case ls of \n",
    "                    [] -> \"empty.\"\n",
    "                    [x] -> \"a singleton list.\"\n",
    "                    xs -> \"a longer list.\"\n",
    "\n",
    "describeList []\n",
    "describeList ['a']\n",
    "describeList ['a', 'f', 'j']"
   ]
  },
  {
   "cell_type": "code",
   "execution_count": 280,
   "metadata": {},
   "outputs": [
    {
     "data": {
      "text/plain": [
       "\"The list is empty.\""
      ]
     },
     "metadata": {},
     "output_type": "display_data"
    },
    {
     "data": {
      "text/plain": [
       "\"The list is a singleton list.\""
      ]
     },
     "metadata": {},
     "output_type": "display_data"
    },
    {
     "data": {
      "text/plain": [
       "\"The list is a longer list.\""
      ]
     },
     "metadata": {},
     "output_type": "display_data"
    }
   ],
   "source": [
    "-- Because pattern matching in function definitions is the same as using case expressions, we could have also defined the describeList function like this:\n",
    "\n",
    "describeList :: [a] -> String\n",
    "describeList ls = \"The list is \" ++ what ls\n",
    "    where what [] = \"empty.\"\n",
    "          what [x] = \"a singleton list.\"\n",
    "          what xs = \"a longer list.\"\n",
    " \n",
    "describeList []\n",
    "describeList ['a']\n",
    "describeList ['a', 'f', 'j']"
   ]
  },
  {
   "cell_type": "code",
   "execution_count": null,
   "metadata": {},
   "outputs": [],
   "source": []
  }
 ],
 "metadata": {
  "kernelspec": {
   "display_name": "Haskell",
   "language": "haskell",
   "name": "haskell"
  },
  "language_info": {
   "codemirror_mode": "ihaskell",
   "file_extension": ".hs",
   "name": "haskell",
   "pygments_lexer": "Haskell",
   "version": "8.6.5"
  }
 },
 "nbformat": 4,
 "nbformat_minor": 4
}
