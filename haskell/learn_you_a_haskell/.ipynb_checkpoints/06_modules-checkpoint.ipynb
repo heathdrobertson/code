{
 "cells": [
  {
   "cell_type": "markdown",
   "metadata": {},
   "source": [
    "# Modules"
   ]
  },
  {
   "cell_type": "markdown",
   "metadata": {},
   "source": [
    "## Importing Modules"
   ]
  },
  {
   "cell_type": "code",
   "execution_count": 1,
   "metadata": {},
   "outputs": [],
   "source": [
    "import Data.List (nub, sort)\n"
   ]
  },
  {
   "cell_type": "code",
   "execution_count": 2,
   "metadata": {},
   "outputs": [
    {
     "data": {
      "text/plain": [
       "[1,2,3,4,7,12,23]"
      ]
     },
     "metadata": {},
     "output_type": "display_data"
    }
   ],
   "source": [
    "let randList = [1, 1, 2, 3, 3, 3, 4, 7, 12, 23, 7]\n",
    "nub randList"
   ]
  },
  {
   "cell_type": "code",
   "execution_count": 3,
   "metadata": {},
   "outputs": [
    {
     "data": {
      "text/plain": [
       "7"
      ]
     },
     "metadata": {},
     "output_type": "display_data"
    }
   ],
   "source": [
    "\n",
    "numUniques :: (Eq a) => [a] -> Int\n",
    "numUniques = length . nub\n",
    "\n",
    "numUniques randList"
   ]
  },
  {
   "cell_type": "markdown",
   "metadata": {},
   "source": [
    "- Importing into GHCI:\n",
    "    - `ghci> :m + Data.List`\n",
    "- Importing multiple modules into GHCI:\n",
    "    - `ghci> :m + Data.List Data.Map Data.Set`\n",
    "- Importing more than one function from a module:\n",
    "    - `import Data.List (nub, sort)`\n",
    "- Import all functions except:\n",
    "    - `import Data.List hiding (nub)\n",
    "- Avoiding name clashes for function imported with the same name:\n",
    "    - `import qualified Data.Map`\n",
    "    - Using a function: `Data.Map.filter` lots of typing.\n",
    "    - Instead; `import qualified Data.Map as M`\n",
    "    - And a function can be called with `M.filter`"
   ]
  },
  {
   "cell_type": "markdown",
   "metadata": {},
   "source": [
    "## Solving Problems with Module Functions"
   ]
  },
  {
   "cell_type": "markdown",
   "metadata": {},
   "source": [
    "### Counting Words"
   ]
  },
  {
   "cell_type": "code",
   "execution_count": 4,
   "metadata": {},
   "outputs": [
    {
     "data": {
      "text/plain": [
       "[\"Here\",\"are\",\"a\",\"bunch\",\"of\",\"words\",\"in\",\"a\",\"string,\",\"what\",\"ya\",\"gonna\",\"do\",\"about\",\"it?\"]"
      ]
     },
     "metadata": {},
     "output_type": "display_data"
    }
   ],
   "source": [
    "words \"Here are a bunch of words in a string, what ya gonna do about it?\""
   ]
  },
  {
   "cell_type": "code",
   "execution_count": 5,
   "metadata": {},
   "outputs": [
    {
     "data": {
      "text/plain": [
       "\"i am sleepy but tough\""
      ]
     },
     "metadata": {},
     "output_type": "display_data"
    }
   ],
   "source": [
    "unwords [\"i\", \"am\", \"sleepy\", \"but\", \"tough\"]"
   ]
  },
  {
   "cell_type": "code",
   "execution_count": 6,
   "metadata": {},
   "outputs": [
    {
     "ename": "",
     "evalue": "",
     "header": "MessageHeader {mhIdentifiers = [\"b376c0da-e06f-4aa7-80c0-0d183023b489\"], mhParentHeader = Just (MessageHeader {mhIdentifiers = [\"b376c0da-e06f-4aa7-80c0-0d183023b489\"], mhParentHeader = Nothing, mhMetadata = Metadata (fromList [(\"deletedCells\",Array []),(\"cellId\",String \"c39757e1-b4ac-4828-bad4-08e03dca320c\")]), mhMessageId = UUID {uuidToString = \"731e2f93-b3d0-4aaf-8cee-bc4d40cbe9ca\"}, mhSessionId = UUID {uuidToString = \"b376c0da-e06f-4aa7-80c0-0d183023b489\"}, mhUsername = \"\", mhMsgType = ExecuteRequestMessage}), mhMetadata = Metadata (fromList []), mhMessageId = UUID {uuidToString = \"7075f1cd-50da-40d6-8bf0-25d142b9d8d3\"}, mhSessionId = UUID {uuidToString = \"b376c0da-e06f-4aa7-80c0-0d183023b489\"}, mhUsername = \"\", mhMsgType = ExecuteErrorMessage}",
     "output_type": "error",
     "traceback": [
      "<interactive>:1:1: error: Variable not in scope: group :: [Integer] -> t"
     ]
    }
   ],
   "source": [
    "group [100, 1,1,1,1,2,2,2,2,3,3,2,2,2,5,6,7]"
   ]
  },
  {
   "cell_type": "code",
   "execution_count": 7,
   "metadata": {},
   "outputs": [
    {
     "ename": "",
     "evalue": "",
     "header": "MessageHeader {mhIdentifiers = [\"b376c0da-e06f-4aa7-80c0-0d183023b489\"], mhParentHeader = Just (MessageHeader {mhIdentifiers = [\"b376c0da-e06f-4aa7-80c0-0d183023b489\"], mhParentHeader = Nothing, mhMetadata = Metadata (fromList [(\"deletedCells\",Array []),(\"cellId\",String \"f0d21b65-fa36-4c38-a3fb-5c7e2823f344\")]), mhMessageId = UUID {uuidToString = \"6be68823-7287-4716-934a-a2ee0e4b15f3\"}, mhSessionId = UUID {uuidToString = \"b376c0da-e06f-4aa7-80c0-0d183023b489\"}, mhUsername = \"\", mhMsgType = ExecuteRequestMessage}), mhMetadata = Metadata (fromList []), mhMessageId = UUID {uuidToString = \"81e83ad1-e67f-46ef-8f87-ac0c1747fd61\"}, mhSessionId = UUID {uuidToString = \"b376c0da-e06f-4aa7-80c0-0d183023b489\"}, mhUsername = \"\", mhMsgType = ExecuteErrorMessage}",
     "output_type": "error",
     "traceback": [
      "<interactive>:1:1: error: Variable not in scope: group :: [Integer] -> c"
     ]
    }
   ],
   "source": [
    "group . sort $ tail [100,1,1,1,1,2,2,2,2,3,3,2,2,2,5,6,7]"
   ]
  },
  {
   "cell_type": "code",
   "execution_count": 8,
   "metadata": {},
   "outputs": [
    {
     "ename": "",
     "evalue": "",
     "header": "MessageHeader {mhIdentifiers = [\"b376c0da-e06f-4aa7-80c0-0d183023b489\"], mhParentHeader = Just (MessageHeader {mhIdentifiers = [\"b376c0da-e06f-4aa7-80c0-0d183023b489\"], mhParentHeader = Nothing, mhMetadata = Metadata (fromList [(\"deletedCells\",Array []),(\"cellId\",String \"c429712d-7721-4ef9-aab0-1c436c093bcb\")]), mhMessageId = UUID {uuidToString = \"cc439c1b-2306-4fd2-be6f-961d461910fa\"}, mhSessionId = UUID {uuidToString = \"b376c0da-e06f-4aa7-80c0-0d183023b489\"}, mhUsername = \"\", mhMsgType = ExecuteRequestMessage}), mhMetadata = Metadata (fromList []), mhMessageId = UUID {uuidToString = \"cfa0ccd3-2eec-4a16-822a-97f0a055afae\"}, mhSessionId = UUID {uuidToString = \"b376c0da-e06f-4aa7-80c0-0d183023b489\"}, mhUsername = \"\", mhMsgType = ExecuteErrorMessage}",
     "output_type": "error",
     "traceback": [
      "<interactive>:2:47: error: Variable not in scope: group :: [String] -> [[String]]"
     ]
    }
   ],
   "source": [
    "-- Suppose we have a string that contains a bunch of words, and we want to know how many times each word appears in the string.\n",
    "\n",
    "let bunchOfWords = \"Suppose we have a string that contains a bunch of words, and we want to know how many times each word string appears in the string.\"\n",
    "\n",
    "wordNums :: String -> [(String, Int)]\n",
    "wordNums st = [(head xs, length xs) |  xs <- (group . sort $ words st)]\n",
    "\n",
    "wordNums bunchOfWords"
   ]
  },
  {
   "cell_type": "code",
   "execution_count": 9,
   "metadata": {},
   "outputs": [
    {
     "ename": "",
     "evalue": "",
     "header": "MessageHeader {mhIdentifiers = [\"b376c0da-e06f-4aa7-80c0-0d183023b489\"], mhParentHeader = Just (MessageHeader {mhIdentifiers = [\"b376c0da-e06f-4aa7-80c0-0d183023b489\"], mhParentHeader = Nothing, mhMetadata = Metadata (fromList [(\"deletedCells\",Array []),(\"cellId\",String \"ba906d5d-74e3-4f26-a7d6-125664f86850\")]), mhMessageId = UUID {uuidToString = \"bfa7e3d1-9b93-4e80-baa1-2c3fc94eafbe\"}, mhSessionId = UUID {uuidToString = \"b376c0da-e06f-4aa7-80c0-0d183023b489\"}, mhUsername = \"\", mhMsgType = ExecuteRequestMessage}), mhMetadata = Metadata (fromList []), mhMessageId = UUID {uuidToString = \"adebfb92-83b7-4492-80df-4880fd31b1c8\"}, mhSessionId = UUID {uuidToString = \"b376c0da-e06f-4aa7-80c0-0d183023b489\"}, mhUsername = \"\", mhMsgType = ExecuteErrorMessage}",
     "output_type": "error",
     "traceback": [
      "<interactive>:2:49: error: Variable not in scope: group :: [String] -> [[String]]"
     ]
    }
   ],
   "source": [
    "numWords :: String -> [(String, Int)] \n",
    "numWords = map (\\ ws -> (head ws, length ws)) . group . sort . words\n",
    "\n",
    "numWords \"this is my string of words with words as items in a list with list and more words\""
   ]
  },
  {
   "cell_type": "markdown",
   "metadata": {},
   "source": [
    "### Needle in the Haystack"
   ]
  },
  {
   "cell_type": "code",
   "execution_count": 10,
   "metadata": {},
   "outputs": [
    {
     "ename": "",
     "evalue": "",
     "header": "MessageHeader {mhIdentifiers = [\"b376c0da-e06f-4aa7-80c0-0d183023b489\"], mhParentHeader = Just (MessageHeader {mhIdentifiers = [\"b376c0da-e06f-4aa7-80c0-0d183023b489\"], mhParentHeader = Nothing, mhMetadata = Metadata (fromList [(\"deletedCells\",Array []),(\"cellId\",String \"09983165-8d1e-41b2-9387-12a91ca26869\")]), mhMessageId = UUID {uuidToString = \"6353c4cd-5f2a-4e6e-92ff-8ef6468f228e\"}, mhSessionId = UUID {uuidToString = \"b376c0da-e06f-4aa7-80c0-0d183023b489\"}, mhUsername = \"\", mhMsgType = ExecuteRequestMessage}), mhMetadata = Metadata (fromList []), mhMessageId = UUID {uuidToString = \"fca9d8c3-fa57-4b0d-91cf-aadcedbf2948\"}, mhSessionId = UUID {uuidToString = \"b376c0da-e06f-4aa7-80c0-0d183023b489\"}, mhUsername = \"\", mhMsgType = ExecuteErrorMessage}",
     "output_type": "error",
     "traceback": [
      "<interactive>:1:1: error:\n    • Variable not in scope: tails :: [Integer] -> t\n    • Perhaps you meant ‘tail’ (imported from Prelude)"
     ]
    }
   ],
   "source": [
    "tails [1, 2, 3, 4]"
   ]
  },
  {
   "cell_type": "code",
   "execution_count": 11,
   "metadata": {},
   "outputs": [
    {
     "ename": "",
     "evalue": "",
     "header": "MessageHeader {mhIdentifiers = [\"b376c0da-e06f-4aa7-80c0-0d183023b489\"], mhParentHeader = Just (MessageHeader {mhIdentifiers = [\"b376c0da-e06f-4aa7-80c0-0d183023b489\"], mhParentHeader = Nothing, mhMetadata = Metadata (fromList [(\"deletedCells\",Array []),(\"cellId\",String \"47992490-df10-44b9-9ac5-db054edb89d8\")]), mhMessageId = UUID {uuidToString = \"a19c0c8c-a757-4e1d-ab37-21be6f0edf13\"}, mhSessionId = UUID {uuidToString = \"b376c0da-e06f-4aa7-80c0-0d183023b489\"}, mhUsername = \"\", mhMsgType = ExecuteRequestMessage}), mhMetadata = Metadata (fromList []), mhMessageId = UUID {uuidToString = \"f599d450-4453-4e09-8d41-71f27c6d2224\"}, mhSessionId = UUID {uuidToString = \"b376c0da-e06f-4aa7-80c0-0d183023b489\"}, mhUsername = \"\", mhMsgType = ExecuteErrorMessage}",
     "output_type": "error",
     "traceback": [
      "<interactive>:2:38: error: Variable not in scope: isPrefixOf :: [a] -> t0 -> Bool\n<interactive>:2:53: error:\n    • Variable not in scope: tails :: [a] -> [t0]\n    • Perhaps you meant ‘tail’ (imported from Prelude)"
     ]
    }
   ],
   "source": [
    "-- a `f` that takes 2 lists and checks to see if the first is in the second\n",
    "\n",
    "isIn :: (Eq a) => [a] -> [a] -> Bool\n",
    "needle `isIn` haystack = any (needle `isPrefixOf`) (tails haystack)\n",
    "\n",
    "[9, 3] `isIn` [8, 9, 3, 4, 5]"
   ]
  },
  {
   "cell_type": "markdown",
   "metadata": {},
   "source": [
    "### Caesar Cipher Salad"
   ]
  },
  {
   "cell_type": "code",
   "execution_count": 12,
   "metadata": {},
   "outputs": [
    {
     "data": {
      "text/plain": [
       "\"khdwk\""
      ]
     },
     "metadata": {},
     "output_type": "display_data"
    }
   ],
   "source": [
    "import Data.Char (ord, chr)\n",
    "\n",
    "encode :: Int -> String -> String\n",
    "encode shift = map (\\ c -> chr $ ord c + shift)\n",
    "\n",
    "heathMessage = encode 3 \"heath\"\n",
    "heathMessage"
   ]
  },
  {
   "cell_type": "code",
   "execution_count": 13,
   "metadata": {},
   "outputs": [
    {
     "data": {
      "text/plain": [
       "\"heath\""
      ]
     },
     "metadata": {},
     "output_type": "display_data"
    }
   ],
   "source": [
    "decode :: Int -> String -> String\n",
    "decode shift = encode (negate shift)\n",
    "\n",
    "decode 3 heathMessage"
   ]
  },
  {
   "cell_type": "code",
   "execution_count": 14,
   "metadata": {},
   "outputs": [
    {
     "ename": "",
     "evalue": "",
     "header": "MessageHeader {mhIdentifiers = [\"b376c0da-e06f-4aa7-80c0-0d183023b489\"], mhParentHeader = Just (MessageHeader {mhIdentifiers = [\"b376c0da-e06f-4aa7-80c0-0d183023b489\"], mhParentHeader = Nothing, mhMetadata = Metadata (fromList [(\"deletedCells\",Array []),(\"cellId\",String \"b71405d0-ba85-474b-a5e7-9b713291ef76\")]), mhMessageId = UUID {uuidToString = \"953c4dae-c1a1-489f-bb92-416838651100\"}, mhSessionId = UUID {uuidToString = \"b376c0da-e06f-4aa7-80c0-0d183023b489\"}, mhUsername = \"\", mhMsgType = ExecuteRequestMessage}), mhMetadata = Metadata (fromList []), mhMessageId = UUID {uuidToString = \"e0b39033-959e-4498-9616-a8cec1fe649b\"}, mhSessionId = UUID {uuidToString = \"b376c0da-e06f-4aa7-80c0-0d183023b489\"}, mhUsername = \"\", mhMsgType = ExecuteErrorMessage}",
     "output_type": "error",
     "traceback": [
      "<interactive>:1:7: error:\n    • Couldn't match expected type ‘b -> Integer -> b’ with actual type ‘()’\n    • In the first argument of ‘foldl’, namely ‘()’\n      In the expression: foldl () 2 [1, 2, 3, 4, ....]\n      In an equation for ‘it’: it = foldl () 2 [1, 2, 3, ....]\n    • Relevant bindings include it :: b (bound at <interactive>:1:1)"
     ]
    }
   ],
   "source": [
    "foldl () 2 [1, 2, 3, 4, 8]"
   ]
  },
  {
   "cell_type": "code",
   "execution_count": 15,
   "metadata": {},
   "outputs": [
    {
     "ename": "",
     "evalue": "",
     "header": "MessageHeader {mhIdentifiers = [\"b376c0da-e06f-4aa7-80c0-0d183023b489\"], mhParentHeader = Just (MessageHeader {mhIdentifiers = [\"b376c0da-e06f-4aa7-80c0-0d183023b489\"], mhParentHeader = Nothing, mhMetadata = Metadata (fromList [(\"deletedCells\",Array []),(\"cellId\",String \"f946ae0b-98df-46ca-9feb-45fc85eb7565\")]), mhMessageId = UUID {uuidToString = \"277b2c84-6a5f-4e04-8bc3-81a6c9d6ce7f\"}, mhSessionId = UUID {uuidToString = \"b376c0da-e06f-4aa7-80c0-0d183023b489\"}, mhUsername = \"\", mhMsgType = ExecuteRequestMessage}), mhMetadata = Metadata (fromList []), mhMessageId = UUID {uuidToString = \"d1bafda5-f2ab-445b-baba-f1979edce888\"}, mhSessionId = UUID {uuidToString = \"b376c0da-e06f-4aa7-80c0-0d183023b489\"}, mhUsername = \"\", mhMsgType = ExecuteErrorMessage}",
     "output_type": "error",
     "traceback": [
      "<interactive>:2:22: error: Variable not in scope: digitToInt :: Char -> Int"
     ]
    }
   ],
   "source": [
    "-- Number sum of its digits equals 40\n",
    "digitSum :: Int -> Int\n",
    "digitSum = sum . map digitToInt . show\n",
    "\n",
    "digitSum 1234"
   ]
  },
  {
   "cell_type": "code",
   "execution_count": 16,
   "metadata": {},
   "outputs": [
    {
     "ename": "",
     "evalue": "",
     "header": "MessageHeader {mhIdentifiers = [\"b376c0da-e06f-4aa7-80c0-0d183023b489\"], mhParentHeader = Just (MessageHeader {mhIdentifiers = [\"b376c0da-e06f-4aa7-80c0-0d183023b489\"], mhParentHeader = Nothing, mhMetadata = Metadata (fromList [(\"deletedCells\",Array []),(\"cellId\",String \"e3cfebc9-86a3-425b-aa69-f0bbc346b85b\")]), mhMessageId = UUID {uuidToString = \"8ecedacc-1f0c-4062-8c02-b3066bb350ba\"}, mhSessionId = UUID {uuidToString = \"b376c0da-e06f-4aa7-80c0-0d183023b489\"}, mhUsername = \"\", mhMsgType = ExecuteRequestMessage}), mhMetadata = Metadata (fromList []), mhMessageId = UUID {uuidToString = \"254b5e75-86f4-4adb-8675-33a5eba65a08\"}, mhSessionId = UUID {uuidToString = \"b376c0da-e06f-4aa7-80c0-0d183023b489\"}, mhUsername = \"\", mhMsgType = ExecuteErrorMessage}",
     "output_type": "error",
     "traceback": [
      "<interactive>:2:13: error: Variable not in scope: find :: (t0 -> Bool) -> [Integer] -> Maybe Int\n<interactive>:2:25: error: Variable not in scope: digitSum :: t0 -> Integer"
     ]
    }
   ],
   "source": [
    "firstTo40 :: Maybe Int\n",
    "firstTo40 = find (\\x -> digitSum x == 40) [1..]\n",
    "\n",
    "firstTo40"
   ]
  },
  {
   "cell_type": "code",
   "execution_count": 17,
   "metadata": {},
   "outputs": [
    {
     "ename": "",
     "evalue": "",
     "header": "MessageHeader {mhIdentifiers = [\"b376c0da-e06f-4aa7-80c0-0d183023b489\"], mhParentHeader = Just (MessageHeader {mhIdentifiers = [\"b376c0da-e06f-4aa7-80c0-0d183023b489\"], mhParentHeader = Nothing, mhMetadata = Metadata (fromList [(\"deletedCells\",Array []),(\"cellId\",String \"c7b25f70-a553-4d0d-8e02-104631e56b89\")]), mhMessageId = UUID {uuidToString = \"721fdcdf-9c64-4e1f-aad6-654865fb0e61\"}, mhSessionId = UUID {uuidToString = \"b376c0da-e06f-4aa7-80c0-0d183023b489\"}, mhUsername = \"\", mhMsgType = ExecuteRequestMessage}), mhMetadata = Metadata (fromList []), mhMessageId = UUID {uuidToString = \"17a41deb-ca59-48e5-8f7b-f3b13698f8e3\"}, mhSessionId = UUID {uuidToString = \"b376c0da-e06f-4aa7-80c0-0d183023b489\"}, mhUsername = \"\", mhMsgType = ExecuteErrorMessage}",
     "output_type": "error",
     "traceback": [
      "<interactive>:2:13: error: Variable not in scope: find :: (t0 -> Bool) -> [Integer] -> Maybe Int\n<interactive>:2:25: error: Variable not in scope: digitSum :: t0 -> Int"
     ]
    }
   ],
   "source": [
    "firstTo :: Int -> Maybe Int\n",
    "firstTo n = find (\\x -> digitSum x == n) [1..]\n",
    "\n",
    "firstTo 27"
   ]
  },
  {
   "cell_type": "markdown",
   "metadata": {},
   "source": [
    "## Mapping Keys to Values"
   ]
  },
  {
   "cell_type": "markdown",
   "metadata": {},
   "source": [
    "### Almost As Good: Association Lists (Also called dictionaries)"
   ]
  },
  {
   "cell_type": "code",
   "execution_count": 18,
   "metadata": {},
   "outputs": [],
   "source": [
    "phoneBook =\n",
    "    [(\"betty\", \"555-2938\"),\n",
    "    (\"bonnie\", \"452-2928\"),\n",
    "    (\"patsy\", \"493-2928\"),\n",
    "    (\"lucille\", \"205-2928\"),\n",
    "    (\"wendy\", \"939-8282\"),\n",
    "    (\"penny\", \"853-2492\")\n",
    "    ]"
   ]
  },
  {
   "cell_type": "code",
   "execution_count": 19,
   "metadata": {},
   "outputs": [],
   "source": [
    "findKey :: (Eq k) => k -> [(k, v)] -> Maybe v\n",
    "findKey key [] = Nothing\n",
    "findKey key ((k,v):xs)\n",
    "    | key == k  = Just v\n",
    "    | otherwise = findKey key xs"
   ]
  },
  {
   "cell_type": "code",
   "execution_count": 20,
   "metadata": {},
   "outputs": [
    {
     "data": {
      "text/plain": [
       "Just \"939-8282\""
      ]
     },
     "metadata": {},
     "output_type": "display_data"
    },
    {
     "data": {
      "text/plain": [
       "Nothing"
      ]
     },
     "metadata": {},
     "output_type": "display_data"
    }
   ],
   "source": [
    "findKey \"wendy\" phoneBook\n",
    "findKey \"heath\" phoneBook"
   ]
  },
  {
   "cell_type": "code",
   "execution_count": 21,
   "metadata": {},
   "outputs": [],
   "source": [
    "findKey :: (Eq k) => k -> [(k, v)] -> Maybe v\n",
    "findKey key = foldr (\\(k, v) acc -> if key == k then Just v else acc) Nothing"
   ]
  },
  {
   "cell_type": "code",
   "execution_count": 22,
   "metadata": {},
   "outputs": [
    {
     "data": {
      "text/plain": [
       "Just \"939-8282\""
      ]
     },
     "metadata": {},
     "output_type": "display_data"
    },
    {
     "data": {
      "text/plain": [
       "Nothing"
      ]
     },
     "metadata": {},
     "output_type": "display_data"
    }
   ],
   "source": [
    "findKey \"wendy\" phoneBook\n",
    "findKey \"heath\" phoneBook"
   ]
  },
  {
   "cell_type": "markdown",
   "metadata": {},
   "source": [
    "### Enter Data.Map\n",
    "\n",
    "```haskell\n",
    "import qualified Data.Map as Map\n",
    "```"
   ]
  },
  {
   "cell_type": "code",
   "execution_count": 23,
   "metadata": {},
   "outputs": [],
   "source": [
    "import qualified Data.Map.Strict as Map\n",
    "\n",
    "myPhoneBook = Map.fromList phoneBook"
   ]
  },
  {
   "cell_type": "code",
   "execution_count": 24,
   "metadata": {},
   "outputs": [
    {
     "data": {
      "text/plain": [
       "Just \"939-8282\""
      ]
     },
     "metadata": {},
     "output_type": "display_data"
    }
   ],
   "source": [
    "Map.lookup \"wendy\" myPhoneBook"
   ]
  },
  {
   "cell_type": "code",
   "execution_count": 25,
   "metadata": {},
   "outputs": [
    {
     "data": {
      "text/plain": [
       "Nothing"
      ]
     },
     "metadata": {},
     "output_type": "display_data"
    },
    {
     "data": {
      "text/plain": [
       "Just \"555-1234\""
      ]
     },
     "metadata": {},
     "output_type": "display_data"
    }
   ],
   "source": [
    "Map.lookup \"heath\" myPhoneBook\n",
    "\n",
    "let newBook = Map.insert \"heath\" \"555-5678\" myPhoneBook\n",
    "let newBook1 = Map.insert \"heath\" \"555-1234\" newBook\n",
    "\n",
    "Map.lookup \"heath\" newBook1"
   ]
  },
  {
   "cell_type": "code",
   "execution_count": 26,
   "metadata": {},
   "outputs": [],
   "source": [
    "phoneBook1 =\n",
    "    [(\"betty\", \"555-2938\")\n",
    "    ,(\"betty\", \"342-2492\")\n",
    "    ,(\"bonnie\", \"452-2928\")\n",
    "    ,(\"patsy\", \"493-2928\")\n",
    "    ,(\"patsy\", \"943-2929\")\n",
    "    ,(\"patsy\", \"827-9162\")\n",
    "    ,(\"lucille\", \"205-2928\")\n",
    "    ,(\"wendy\", \"939-8282\")\n",
    "    ,(\"penny\", \"853-2492\")\n",
    "    ,(\"penny\", \"555-2111\")\n",
    "    ]"
   ]
  },
  {
   "cell_type": "code",
   "execution_count": 27,
   "metadata": {},
   "outputs": [
    {
     "data": {
      "text/plain": [
       "Just \"827-9162, 943-2929, 493-2928\""
      ]
     },
     "metadata": {},
     "output_type": "display_data"
    }
   ],
   "source": [
    "phoneBookToMap :: (Ord k) => [(k, String)] -> Map.Map k String\n",
    "phoneBookToMap = Map.fromListWith add \n",
    "    where add number1 number2 = number1 ++ \", \" ++ number2\n",
    "    \n",
    "Map.lookup \"patsy\" $ phoneBookToMap phoneBook1"
   ]
  },
  {
   "cell_type": "code",
   "execution_count": 28,
   "metadata": {},
   "outputs": [
    {
     "data": {
      "text/plain": [
       "Just [\"827-9162\",\"943-2929\",\"493-2928\"]"
      ]
     },
     "metadata": {},
     "output_type": "display_data"
    }
   ],
   "source": [
    "phoneBookToMap :: (Ord k) => [(k, a)] -> Map.Map k [a]\n",
    "phoneBookToMap xs = Map.fromListWith (++) $ map (\\(k, v) -> (k, [v])) xs\n",
    "\n",
    "Map.lookup \"patsy\" $ phoneBookToMap phoneBook1"
   ]
  },
  {
   "cell_type": "code",
   "execution_count": 29,
   "metadata": {},
   "outputs": [
    {
     "data": {
      "text/plain": [
       "fromList [(2,100),(3,29),(4,22)]"
      ]
     },
     "metadata": {},
     "output_type": "display_data"
    },
    {
     "data": {
      "text/plain": [
       "fromList [(2,100),(3,29),(4,22)]"
      ]
     },
     "metadata": {},
     "output_type": "display_data"
    }
   ],
   "source": [
    "Map.fromListWith max [(2,3),(2,5),(2,100),(3,29),(3,22),(3,11),(4,22),(4,15)] \n",
    "\n",
    "Map.fromList [(2,100),(3,29),(4,22)]"
   ]
  },
  {
   "cell_type": "code",
   "execution_count": 30,
   "metadata": {},
   "outputs": [
    {
     "data": {
      "text/plain": [
       "fromList [(2,108),(3,62),(4,37)]"
      ]
     },
     "metadata": {},
     "output_type": "display_data"
    },
    {
     "data": {
      "text/plain": [
       "fromList [(2,108),(3,62),(4,37)]"
      ]
     },
     "metadata": {},
     "output_type": "display_data"
    }
   ],
   "source": [
    "Map.fromListWith (+) [(2,3),(2,5),(2,100),(3,29),(3,22),(3,11),(4,22),(4,15)]\n",
    "Map.fromList [(2,108),(3,62),(4,37)]"
   ]
  },
  {
   "cell_type": "markdown",
   "metadata": {},
   "source": [
    "## Make Our Own Modules"
   ]
  },
  {
   "cell_type": "markdown",
   "metadata": {},
   "source": [
    "### A Geometry Module"
   ]
  },
  {
   "cell_type": "code",
   "execution_count": 32,
   "metadata": {},
   "outputs": [
    {
     "ename": "",
     "evalue": "",
     "header": "MessageHeader {mhIdentifiers = [\"b376c0da-e06f-4aa7-80c0-0d183023b489\"], mhParentHeader = Just (MessageHeader {mhIdentifiers = [\"b376c0da-e06f-4aa7-80c0-0d183023b489\"], mhParentHeader = Nothing, mhMetadata = Metadata (fromList [(\"deletedCells\",Array []),(\"cellId\",String \"d567ecd0-20a4-4984-b61d-20d93e9bef7c\")]), mhMessageId = UUID {uuidToString = \"6c2072d1-a73f-453a-83b5-9216bb424eeb\"}, mhSessionId = UUID {uuidToString = \"b376c0da-e06f-4aa7-80c0-0d183023b489\"}, mhUsername = \"\", mhMsgType = ExecuteRequestMessage}), mhMetadata = Metadata (fromList []), mhMessageId = UUID {uuidToString = \"4ab8e103-844d-422e-8adc-2f2a90f4b2b6\"}, mhSessionId = UUID {uuidToString = \"b376c0da-e06f-4aa7-80c0-0d183023b489\"}, mhUsername = \"\", mhMsgType = ExecuteErrorMessage}",
     "output_type": "error",
     "traceback": [
      "<interactive>:1:1: error: attempting to use module ‘main:Geometry.Sphere’ (./Geometry/Sphere.hs) which is not loaded"
     ]
    }
   ],
   "source": [
    "import Geometry.Sphere\n",
    "\n",
    "Sphere.volume 2.0"
   ]
  },
  {
   "cell_type": "code",
   "execution_count": null,
   "metadata": {},
   "outputs": [],
   "source": []
  }
 ],
 "metadata": {
  "kernelspec": {
   "display_name": "Haskell",
   "language": "haskell",
   "name": "haskell"
  },
  "language_info": {
   "codemirror_mode": "ihaskell",
   "file_extension": ".hs",
   "name": "haskell",
   "pygments_lexer": "Haskell",
   "version": "8.6.5"
  },
  "toc-autonumbering": true,
  "toc-showcode": false,
  "toc-showmarkdowntxt": false,
  "toc-showtags": false
 },
 "nbformat": 4,
 "nbformat_minor": 4
}
