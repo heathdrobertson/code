{
 "cells": [
  {
   "cell_type": "markdown",
   "metadata": {},
   "source": [
    "# Modules"
   ]
  },
  {
   "cell_type": "markdown",
   "metadata": {},
   "source": [
    "## Importing Modules"
   ]
  },
  {
   "cell_type": "code",
   "execution_count": 1,
   "metadata": {},
   "outputs": [],
   "source": [
    "import Data.List (nub, sort)\n"
   ]
  },
  {
   "cell_type": "code",
   "execution_count": 2,
   "metadata": {},
   "outputs": [
    {
     "data": {
      "text/plain": [
       "[1,2,3,4,7,12,23]"
      ]
     },
     "metadata": {},
     "output_type": "display_data"
    }
   ],
   "source": [
    "let randList = [1, 1, 2, 3, 3, 3, 4, 7, 12, 23, 7]\n",
    "nub randList"
   ]
  },
  {
   "cell_type": "code",
   "execution_count": 3,
   "metadata": {},
   "outputs": [
    {
     "data": {
      "text/plain": [
       "7"
      ]
     },
     "metadata": {},
     "output_type": "display_data"
    }
   ],
   "source": [
    "\n",
    "numUniques :: (Eq a) => [a] -> Int\n",
    "numUniques = length . nub\n",
    "\n",
    "numUniques randList"
   ]
  },
  {
   "cell_type": "markdown",
   "metadata": {},
   "source": [
    "- Importing into GHCI:\n",
    "    - `ghci> :m + Data.List`\n",
    "- Importing multiple modules into GHCI:\n",
    "    - `ghci> :m + Data.List Data.Map Data.Set`\n",
    "- Importing more than one function from a module:\n",
    "    - `import Data.List (nub, sort)`\n",
    "- Import all functions except:\n",
    "    - `import Data.List hiding (nub)\n",
    "- Avoiding name clashes for function imported with the same name:\n",
    "    - `import qualified Data.Map`\n",
    "    - Using a function: `Data.Map.filter` lots of typing.\n",
    "    - Instead; `import qualified Data.Map as M`\n",
    "    - And a function can be called with `M.filter`"
   ]
  },
  {
   "cell_type": "markdown",
   "metadata": {},
   "source": [
    "## Solving Problems with Module Functions"
   ]
  },
  {
   "cell_type": "markdown",
   "metadata": {},
   "source": [
    "### Counting Words"
   ]
  },
  {
   "cell_type": "code",
   "execution_count": 4,
   "metadata": {},
   "outputs": [
    {
     "data": {
      "text/plain": [
       "[\"Here\",\"are\",\"a\",\"bunch\",\"of\",\"words\",\"in\",\"a\",\"string,\",\"what\",\"ya\",\"gonna\",\"do\",\"about\",\"it?\"]"
      ]
     },
     "metadata": {},
     "output_type": "display_data"
    }
   ],
   "source": [
    "words \"Here are a bunch of words in a string, what ya gonna do about it?\""
   ]
  },
  {
   "cell_type": "code",
   "execution_count": 5,
   "metadata": {},
   "outputs": [
    {
     "data": {
      "text/plain": [
       "\"i am sleepy but tough\""
      ]
     },
     "metadata": {},
     "output_type": "display_data"
    }
   ],
   "source": [
    "unwords [\"i\", \"am\", \"sleepy\", \"but\", \"tough\"]"
   ]
  },
  {
   "cell_type": "code",
   "execution_count": 6,
   "metadata": {},
   "outputs": [
    {
     "ename": "",
     "evalue": "",
     "header": "MessageHeader {mhIdentifiers = [\"8eb1d5ad-46bf-47d7-ad13-da11efeabccb\"], mhParentHeader = Just (MessageHeader {mhIdentifiers = [\"8eb1d5ad-46bf-47d7-ad13-da11efeabccb\"], mhParentHeader = Nothing, mhMetadata = Metadata (fromList [(\"deletedCells\",Array []),(\"cellId\",String \"bbf9846b-21ee-4eb7-9c63-bf58b3ee3e8c\")]), mhMessageId = UUID {uuidToString = \"3e06469e-6783-4808-a7f9-d6c4f1a55072\"}, mhSessionId = UUID {uuidToString = \"8eb1d5ad-46bf-47d7-ad13-da11efeabccb\"}, mhUsername = \"\", mhMsgType = ExecuteRequestMessage}), mhMetadata = Metadata (fromList []), mhMessageId = UUID {uuidToString = \"62b3db9e-c6c2-487b-93cb-ee0b9023ca60\"}, mhSessionId = UUID {uuidToString = \"8eb1d5ad-46bf-47d7-ad13-da11efeabccb\"}, mhUsername = \"\", mhMsgType = ExecuteErrorMessage}",
     "output_type": "error",
     "traceback": [
      "<interactive>:1:1: error: Variable not in scope: group :: [Integer] -> t"
     ]
    }
   ],
   "source": [
    "group [100, 1,1,1,1,2,2,2,2,3,3,2,2,2,5,6,7]"
   ]
  },
  {
   "cell_type": "code",
   "execution_count": 7,
   "metadata": {},
   "outputs": [
    {
     "ename": "",
     "evalue": "",
     "header": "MessageHeader {mhIdentifiers = [\"8eb1d5ad-46bf-47d7-ad13-da11efeabccb\"], mhParentHeader = Just (MessageHeader {mhIdentifiers = [\"8eb1d5ad-46bf-47d7-ad13-da11efeabccb\"], mhParentHeader = Nothing, mhMetadata = Metadata (fromList [(\"deletedCells\",Array []),(\"cellId\",String \"05979da7-c12a-40f2-a46b-afd160c19ab8\")]), mhMessageId = UUID {uuidToString = \"2dfb91d9-631a-4909-a4c4-88d180d6658b\"}, mhSessionId = UUID {uuidToString = \"8eb1d5ad-46bf-47d7-ad13-da11efeabccb\"}, mhUsername = \"\", mhMsgType = ExecuteRequestMessage}), mhMetadata = Metadata (fromList []), mhMessageId = UUID {uuidToString = \"1764651c-545e-4c50-b7e3-69f5bf5fb5c5\"}, mhSessionId = UUID {uuidToString = \"8eb1d5ad-46bf-47d7-ad13-da11efeabccb\"}, mhUsername = \"\", mhMsgType = ExecuteErrorMessage}",
     "output_type": "error",
     "traceback": [
      "<interactive>:1:1: error: Variable not in scope: group :: [Integer] -> c"
     ]
    }
   ],
   "source": [
    "group . sort $ tail [100,1,1,1,1,2,2,2,2,3,3,2,2,2,5,6,7]"
   ]
  },
  {
   "cell_type": "code",
   "execution_count": 8,
   "metadata": {},
   "outputs": [
    {
     "ename": "",
     "evalue": "",
     "header": "MessageHeader {mhIdentifiers = [\"8eb1d5ad-46bf-47d7-ad13-da11efeabccb\"], mhParentHeader = Just (MessageHeader {mhIdentifiers = [\"8eb1d5ad-46bf-47d7-ad13-da11efeabccb\"], mhParentHeader = Nothing, mhMetadata = Metadata (fromList [(\"deletedCells\",Array []),(\"cellId\",String \"9f8c2e43-5b08-47ef-b4c7-74d9dbd3507e\")]), mhMessageId = UUID {uuidToString = \"812dca8c-8291-4181-8539-fc8c2cd785d1\"}, mhSessionId = UUID {uuidToString = \"8eb1d5ad-46bf-47d7-ad13-da11efeabccb\"}, mhUsername = \"\", mhMsgType = ExecuteRequestMessage}), mhMetadata = Metadata (fromList []), mhMessageId = UUID {uuidToString = \"782bfc30-5537-4558-a913-42a1ed5bb0d3\"}, mhSessionId = UUID {uuidToString = \"8eb1d5ad-46bf-47d7-ad13-da11efeabccb\"}, mhUsername = \"\", mhMsgType = ExecuteErrorMessage}",
     "output_type": "error",
     "traceback": [
      "<interactive>:2:47: error: Variable not in scope: group :: [String] -> [[String]]"
     ]
    }
   ],
   "source": [
    "-- Suppose we have a string that contains a bunch of words, and we want to know how many times each word appears in the string.\n",
    "\n",
    "let bunchOfWords = \"Suppose we have a string that contains a bunch of words, and we want to know how many times each word string appears in the string.\"\n",
    "\n",
    "wordNums :: String -> [(String, Int)]\n",
    "wordNums st = [(head xs, length xs) |  xs <- (group . sort $ words st)]\n",
    "\n",
    "wordNums bunchOfWords"
   ]
  },
  {
   "cell_type": "code",
   "execution_count": 9,
   "metadata": {},
   "outputs": [
    {
     "ename": "",
     "evalue": "",
     "header": "MessageHeader {mhIdentifiers = [\"8eb1d5ad-46bf-47d7-ad13-da11efeabccb\"], mhParentHeader = Just (MessageHeader {mhIdentifiers = [\"8eb1d5ad-46bf-47d7-ad13-da11efeabccb\"], mhParentHeader = Nothing, mhMetadata = Metadata (fromList [(\"deletedCells\",Array []),(\"cellId\",String \"3a9f4670-c70d-428a-95ed-f016c0a5d44a\")]), mhMessageId = UUID {uuidToString = \"b0e92ae2-7799-41c0-822f-45bc6de4d176\"}, mhSessionId = UUID {uuidToString = \"8eb1d5ad-46bf-47d7-ad13-da11efeabccb\"}, mhUsername = \"\", mhMsgType = ExecuteRequestMessage}), mhMetadata = Metadata (fromList []), mhMessageId = UUID {uuidToString = \"9295a466-e03a-42d3-b2c1-5bebb7d3d112\"}, mhSessionId = UUID {uuidToString = \"8eb1d5ad-46bf-47d7-ad13-da11efeabccb\"}, mhUsername = \"\", mhMsgType = ExecuteErrorMessage}",
     "output_type": "error",
     "traceback": [
      "<interactive>:2:49: error: Variable not in scope: group :: [String] -> [[String]]"
     ]
    }
   ],
   "source": [
    "numWords :: String -> [(String, Int)] \n",
    "numWords = map (\\ ws -> (head ws, length ws)) . group . sort . words\n",
    "\n",
    "numWords \"this is my string of words with words as items in a list with list and more words\""
   ]
  },
  {
   "cell_type": "markdown",
   "metadata": {},
   "source": [
    "### Needle in the Haystack"
   ]
  },
  {
   "cell_type": "code",
   "execution_count": 10,
   "metadata": {},
   "outputs": [
    {
     "ename": "",
     "evalue": "",
     "header": "MessageHeader {mhIdentifiers = [\"8eb1d5ad-46bf-47d7-ad13-da11efeabccb\"], mhParentHeader = Just (MessageHeader {mhIdentifiers = [\"8eb1d5ad-46bf-47d7-ad13-da11efeabccb\"], mhParentHeader = Nothing, mhMetadata = Metadata (fromList [(\"deletedCells\",Array []),(\"cellId\",String \"3cab84d9-1851-477e-a374-2bc14192adb7\")]), mhMessageId = UUID {uuidToString = \"a69f376d-9e51-4992-a01b-7681f6c42d97\"}, mhSessionId = UUID {uuidToString = \"8eb1d5ad-46bf-47d7-ad13-da11efeabccb\"}, mhUsername = \"\", mhMsgType = ExecuteRequestMessage}), mhMetadata = Metadata (fromList []), mhMessageId = UUID {uuidToString = \"84235309-fb84-4be0-b5f1-86d1b3b67f54\"}, mhSessionId = UUID {uuidToString = \"8eb1d5ad-46bf-47d7-ad13-da11efeabccb\"}, mhUsername = \"\", mhMsgType = ExecuteErrorMessage}",
     "output_type": "error",
     "traceback": [
      "<interactive>:1:1: error:\n    • Variable not in scope: tails :: [Integer] -> t\n    • Perhaps you meant ‘tail’ (imported from Prelude)"
     ]
    }
   ],
   "source": [
    "tails [1, 2, 3, 4]"
   ]
  },
  {
   "cell_type": "code",
   "execution_count": 11,
   "metadata": {},
   "outputs": [
    {
     "ename": "",
     "evalue": "",
     "header": "MessageHeader {mhIdentifiers = [\"8eb1d5ad-46bf-47d7-ad13-da11efeabccb\"], mhParentHeader = Just (MessageHeader {mhIdentifiers = [\"8eb1d5ad-46bf-47d7-ad13-da11efeabccb\"], mhParentHeader = Nothing, mhMetadata = Metadata (fromList [(\"deletedCells\",Array []),(\"cellId\",String \"5e86ca1b-35e1-46f0-b415-6e23595d9fb2\")]), mhMessageId = UUID {uuidToString = \"870d7c2f-c9af-4364-8796-432d8faf0636\"}, mhSessionId = UUID {uuidToString = \"8eb1d5ad-46bf-47d7-ad13-da11efeabccb\"}, mhUsername = \"\", mhMsgType = ExecuteRequestMessage}), mhMetadata = Metadata (fromList []), mhMessageId = UUID {uuidToString = \"7ce17ba5-ea1e-4542-b848-278033bcbfdf\"}, mhSessionId = UUID {uuidToString = \"8eb1d5ad-46bf-47d7-ad13-da11efeabccb\"}, mhUsername = \"\", mhMsgType = ExecuteErrorMessage}",
     "output_type": "error",
     "traceback": [
      "<interactive>:2:38: error: Variable not in scope: isPrefixOf :: [a] -> t0 -> Bool\n<interactive>:2:53: error:\n    • Variable not in scope: tails :: [a] -> [t0]\n    • Perhaps you meant ‘tail’ (imported from Prelude)"
     ]
    }
   ],
   "source": [
    "-- a `f` that takes 2 lists and checks to see if the first is in the second\n",
    "\n",
    "isIn :: (Eq a) => [a] -> [a] -> Bool\n",
    "needle `isIn` haystack = any (needle `isPrefixOf`) (tails haystack)\n",
    "\n",
    "[9, 3] `isIn` [8, 9, 3, 4, 5]"
   ]
  },
  {
   "cell_type": "markdown",
   "metadata": {},
   "source": [
    "### Caesar Cipher Salad"
   ]
  },
  {
   "cell_type": "code",
   "execution_count": 12,
   "metadata": {},
   "outputs": [
    {
     "data": {
      "text/plain": [
       "\"khdwk\""
      ]
     },
     "metadata": {},
     "output_type": "display_data"
    }
   ],
   "source": [
    "import Data.Char (ord, chr)\n",
    "\n",
    "encode :: Int -> String -> String\n",
    "encode shift = map (\\ c -> chr $ ord c + shift)\n",
    "\n",
    "heathMessage = encode 3 \"heath\"\n",
    "heathMessage"
   ]
  },
  {
   "cell_type": "code",
   "execution_count": 13,
   "metadata": {},
   "outputs": [
    {
     "data": {
      "text/plain": [
       "\"heath\""
      ]
     },
     "metadata": {},
     "output_type": "display_data"
    }
   ],
   "source": [
    "decode :: Int -> String -> String\n",
    "decode shift = encode (negate shift)\n",
    "\n",
    "decode 3 heathMessage"
   ]
  },
  {
   "cell_type": "code",
   "execution_count": 14,
   "metadata": {},
   "outputs": [
    {
     "ename": "",
     "evalue": "",
     "header": "MessageHeader {mhIdentifiers = [\"8eb1d5ad-46bf-47d7-ad13-da11efeabccb\"], mhParentHeader = Just (MessageHeader {mhIdentifiers = [\"8eb1d5ad-46bf-47d7-ad13-da11efeabccb\"], mhParentHeader = Nothing, mhMetadata = Metadata (fromList [(\"deletedCells\",Array []),(\"cellId\",String \"5021b0ea-7d7e-4174-a02c-8c54436cec26\")]), mhMessageId = UUID {uuidToString = \"5737a126-ccc7-417b-87f3-5b5d5fbc666f\"}, mhSessionId = UUID {uuidToString = \"8eb1d5ad-46bf-47d7-ad13-da11efeabccb\"}, mhUsername = \"\", mhMsgType = ExecuteRequestMessage}), mhMetadata = Metadata (fromList []), mhMessageId = UUID {uuidToString = \"8c738181-cf79-4a20-9e48-f5cc0249d0f1\"}, mhSessionId = UUID {uuidToString = \"8eb1d5ad-46bf-47d7-ad13-da11efeabccb\"}, mhUsername = \"\", mhMsgType = ExecuteErrorMessage}",
     "output_type": "error",
     "traceback": [
      "<interactive>:1:7: error:\n    • Couldn't match expected type ‘b -> Integer -> b’ with actual type ‘()’\n    • In the first argument of ‘foldl’, namely ‘()’\n      In the expression: foldl () 2 [1, 2, 3, 4, ....]\n      In an equation for ‘it’: it = foldl () 2 [1, 2, 3, ....]\n    • Relevant bindings include it :: b (bound at <interactive>:1:1)"
     ]
    }
   ],
   "source": [
    "foldl () 2 [1, 2, 3, 4, 8]"
   ]
  },
  {
   "cell_type": "code",
   "execution_count": 15,
   "metadata": {},
   "outputs": [
    {
     "ename": "",
     "evalue": "",
     "header": "MessageHeader {mhIdentifiers = [\"8eb1d5ad-46bf-47d7-ad13-da11efeabccb\"], mhParentHeader = Just (MessageHeader {mhIdentifiers = [\"8eb1d5ad-46bf-47d7-ad13-da11efeabccb\"], mhParentHeader = Nothing, mhMetadata = Metadata (fromList [(\"deletedCells\",Array []),(\"cellId\",String \"243560f9-b85d-47b9-bfee-3f6796f32f8b\")]), mhMessageId = UUID {uuidToString = \"f879e4dc-c68e-4440-9491-7fa60ec2d19c\"}, mhSessionId = UUID {uuidToString = \"8eb1d5ad-46bf-47d7-ad13-da11efeabccb\"}, mhUsername = \"\", mhMsgType = ExecuteRequestMessage}), mhMetadata = Metadata (fromList []), mhMessageId = UUID {uuidToString = \"b2a5f0ee-7a72-4cd2-afb8-e9f1c5f226f5\"}, mhSessionId = UUID {uuidToString = \"8eb1d5ad-46bf-47d7-ad13-da11efeabccb\"}, mhUsername = \"\", mhMsgType = ExecuteErrorMessage}",
     "output_type": "error",
     "traceback": [
      "<interactive>:2:22: error: Variable not in scope: digitToInt :: Char -> Int"
     ]
    }
   ],
   "source": [
    "-- Number sum of its digits equals 40\n",
    "digitSum :: Int -> Int\n",
    "digitSum = sum . map digitToInt . show\n",
    "\n",
    "digitSum 1234"
   ]
  },
  {
   "cell_type": "code",
   "execution_count": 16,
   "metadata": {},
   "outputs": [
    {
     "ename": "",
     "evalue": "",
     "header": "MessageHeader {mhIdentifiers = [\"8eb1d5ad-46bf-47d7-ad13-da11efeabccb\"], mhParentHeader = Just (MessageHeader {mhIdentifiers = [\"8eb1d5ad-46bf-47d7-ad13-da11efeabccb\"], mhParentHeader = Nothing, mhMetadata = Metadata (fromList [(\"deletedCells\",Array []),(\"cellId\",String \"3d22c498-cf2d-4b5e-a11c-1057de72965f\")]), mhMessageId = UUID {uuidToString = \"8d568015-c516-4793-a1b4-3a991f3f84c4\"}, mhSessionId = UUID {uuidToString = \"8eb1d5ad-46bf-47d7-ad13-da11efeabccb\"}, mhUsername = \"\", mhMsgType = ExecuteRequestMessage}), mhMetadata = Metadata (fromList []), mhMessageId = UUID {uuidToString = \"0f08bfc6-2d95-48bc-939f-01578c4b9740\"}, mhSessionId = UUID {uuidToString = \"8eb1d5ad-46bf-47d7-ad13-da11efeabccb\"}, mhUsername = \"\", mhMsgType = ExecuteErrorMessage}",
     "output_type": "error",
     "traceback": [
      "<interactive>:2:13: error: Variable not in scope: find :: (t0 -> Bool) -> [Integer] -> Maybe Int\n<interactive>:2:25: error: Variable not in scope: digitSum :: t0 -> Integer"
     ]
    }
   ],
   "source": [
    "firstTo40 :: Maybe Int\n",
    "firstTo40 = find (\\x -> digitSum x == 40) [1..]\n",
    "\n",
    "firstTo40"
   ]
  },
  {
   "cell_type": "code",
   "execution_count": 17,
   "metadata": {},
   "outputs": [
    {
     "ename": "",
     "evalue": "",
     "header": "MessageHeader {mhIdentifiers = [\"8eb1d5ad-46bf-47d7-ad13-da11efeabccb\"], mhParentHeader = Just (MessageHeader {mhIdentifiers = [\"8eb1d5ad-46bf-47d7-ad13-da11efeabccb\"], mhParentHeader = Nothing, mhMetadata = Metadata (fromList [(\"deletedCells\",Array []),(\"cellId\",String \"f4300444-0446-416e-b351-852c8d61b29f\")]), mhMessageId = UUID {uuidToString = \"671f818b-dab6-4e73-b509-ebb7593f80e6\"}, mhSessionId = UUID {uuidToString = \"8eb1d5ad-46bf-47d7-ad13-da11efeabccb\"}, mhUsername = \"\", mhMsgType = ExecuteRequestMessage}), mhMetadata = Metadata (fromList []), mhMessageId = UUID {uuidToString = \"d223379d-a7a2-4dcd-9c9a-4450b4f02ac0\"}, mhSessionId = UUID {uuidToString = \"8eb1d5ad-46bf-47d7-ad13-da11efeabccb\"}, mhUsername = \"\", mhMsgType = ExecuteErrorMessage}",
     "output_type": "error",
     "traceback": [
      "<interactive>:2:13: error: Variable not in scope: find :: (t0 -> Bool) -> [Integer] -> Maybe Int\n<interactive>:2:25: error: Variable not in scope: digitSum :: t0 -> Int"
     ]
    }
   ],
   "source": [
    "firstTo :: Int -> Maybe Int\n",
    "firstTo n = find (\\x -> digitSum x == n) [1..]\n",
    "\n",
    "firstTo 27"
   ]
  },
  {
   "cell_type": "markdown",
   "metadata": {},
   "source": [
    "## Mapping Keys to Values"
   ]
  },
  {
   "cell_type": "markdown",
   "metadata": {},
   "source": [
    "### Almost As Good: Association Lists (Also called dictionaries)"
   ]
  },
  {
   "cell_type": "code",
   "execution_count": 18,
   "metadata": {},
   "outputs": [],
   "source": [
    "phoneBook =\n",
    "    [(\"betty\", \"555-2938\"),\n",
    "    (\"bonnie\", \"452-2928\"),\n",
    "    (\"patsy\", \"493-2928\"),\n",
    "    (\"lucille\", \"205-2928\"),\n",
    "    (\"wendy\", \"939-8282\"),\n",
    "    (\"penny\", \"853-2492\")\n",
    "    ]"
   ]
  },
  {
   "cell_type": "code",
   "execution_count": 19,
   "metadata": {},
   "outputs": [],
   "source": [
    "findKey :: (Eq k) => k -> [(k, v)] -> Maybe v\n",
    "findKey key [] = Nothing\n",
    "findKey key ((k,v):xs)\n",
    "    | key == k  = Just v\n",
    "    | otherwise = findKey key xs"
   ]
  },
  {
   "cell_type": "code",
   "execution_count": 20,
   "metadata": {},
   "outputs": [
    {
     "data": {
      "text/plain": [
       "Just \"939-8282\""
      ]
     },
     "metadata": {},
     "output_type": "display_data"
    },
    {
     "data": {
      "text/plain": [
       "Nothing"
      ]
     },
     "metadata": {},
     "output_type": "display_data"
    }
   ],
   "source": [
    "findKey \"wendy\" phoneBook\n",
    "findKey \"heath\" phoneBook"
   ]
  },
  {
   "cell_type": "code",
   "execution_count": 21,
   "metadata": {},
   "outputs": [],
   "source": [
    "findKey :: (Eq k) => k -> [(k, v)] -> Maybe v\n",
    "findKey key = foldr (\\(k, v) acc -> if key == k then Just v else acc) Nothing"
   ]
  },
  {
   "cell_type": "code",
   "execution_count": 22,
   "metadata": {},
   "outputs": [
    {
     "data": {
      "text/plain": [
       "Just \"939-8282\""
      ]
     },
     "metadata": {},
     "output_type": "display_data"
    },
    {
     "data": {
      "text/plain": [
       "Nothing"
      ]
     },
     "metadata": {},
     "output_type": "display_data"
    }
   ],
   "source": [
    "findKey \"wendy\" phoneBook\n",
    "findKey \"heath\" phoneBook"
   ]
  },
  {
   "cell_type": "markdown",
   "metadata": {},
   "source": [
    "### Enter Data.Map\n",
    "\n",
    "```haskell\n",
    "import qualified Data.Map as Map\n",
    "```"
   ]
  },
  {
   "cell_type": "code",
   "execution_count": 23,
   "metadata": {},
   "outputs": [],
   "source": [
    "import qualified Data.Map.Strict as Map\n",
    "\n",
    "myPhoneBook = Map.fromList phoneBook"
   ]
  },
  {
   "cell_type": "code",
   "execution_count": 24,
   "metadata": {},
   "outputs": [
    {
     "data": {
      "text/plain": [
       "Just \"939-8282\""
      ]
     },
     "metadata": {},
     "output_type": "display_data"
    }
   ],
   "source": [
    "Map.lookup \"wendy\" myPhoneBook"
   ]
  },
  {
   "cell_type": "code",
   "execution_count": 25,
   "metadata": {},
   "outputs": [
    {
     "data": {
      "text/plain": [
       "Nothing"
      ]
     },
     "metadata": {},
     "output_type": "display_data"
    },
    {
     "data": {
      "text/plain": [
       "Just \"555-1234\""
      ]
     },
     "metadata": {},
     "output_type": "display_data"
    }
   ],
   "source": [
    "Map.lookup \"heath\" myPhoneBook\n",
    "\n",
    "let newBook = Map.insert \"heath\" \"555-5678\" myPhoneBook\n",
    "let newBook1 = Map.insert \"heath\" \"555-1234\" newBook\n",
    "\n",
    "Map.lookup \"heath\" newBook1"
   ]
  },
  {
   "cell_type": "code",
   "execution_count": 26,
   "metadata": {},
   "outputs": [],
   "source": [
    "phoneBook1 =\n",
    "    [(\"betty\", \"555-2938\")\n",
    "    ,(\"betty\", \"342-2492\")\n",
    "    ,(\"bonnie\", \"452-2928\")\n",
    "    ,(\"patsy\", \"493-2928\")\n",
    "    ,(\"patsy\", \"943-2929\")\n",
    "    ,(\"patsy\", \"827-9162\")\n",
    "    ,(\"lucille\", \"205-2928\")\n",
    "    ,(\"wendy\", \"939-8282\")\n",
    "    ,(\"penny\", \"853-2492\")\n",
    "    ,(\"penny\", \"555-2111\")\n",
    "    ]"
   ]
  },
  {
   "cell_type": "code",
   "execution_count": 27,
   "metadata": {},
   "outputs": [
    {
     "data": {
      "text/plain": [
       "Just \"827-9162, 943-2929, 493-2928\""
      ]
     },
     "metadata": {},
     "output_type": "display_data"
    }
   ],
   "source": [
    "phoneBookToMap :: (Ord k) => [(k, String)] -> Map.Map k String\n",
    "phoneBookToMap = Map.fromListWith add \n",
    "    where add number1 number2 = number1 ++ \", \" ++ number2\n",
    "    \n",
    "Map.lookup \"patsy\" $ phoneBookToMap phoneBook1"
   ]
  },
  {
   "cell_type": "code",
   "execution_count": 28,
   "metadata": {},
   "outputs": [
    {
     "data": {
      "text/plain": [
       "Just [\"827-9162\",\"943-2929\",\"493-2928\"]"
      ]
     },
     "metadata": {},
     "output_type": "display_data"
    }
   ],
   "source": [
    "phoneBookToMap :: (Ord k) => [(k, a)] -> Map.Map k [a]\n",
    "phoneBookToMap xs = Map.fromListWith (++) $ map (\\(k, v) -> (k, [v])) xs\n",
    "\n",
    "Map.lookup \"patsy\" $ phoneBookToMap phoneBook1"
   ]
  },
  {
   "cell_type": "code",
   "execution_count": 29,
   "metadata": {},
   "outputs": [
    {
     "data": {
      "text/plain": [
       "fromList [(2,100),(3,29),(4,22)]"
      ]
     },
     "metadata": {},
     "output_type": "display_data"
    },
    {
     "data": {
      "text/plain": [
       "fromList [(2,100),(3,29),(4,22)]"
      ]
     },
     "metadata": {},
     "output_type": "display_data"
    }
   ],
   "source": [
    "Map.fromListWith max [(2,3),(2,5),(2,100),(3,29),(3,22),(3,11),(4,22),(4,15)] \n",
    "\n",
    "Map.fromList [(2,100),(3,29),(4,22)]"
   ]
  },
  {
   "cell_type": "code",
   "execution_count": 30,
   "metadata": {},
   "outputs": [
    {
     "data": {
      "text/plain": [
       "fromList [(2,108),(3,62),(4,37)]"
      ]
     },
     "metadata": {},
     "output_type": "display_data"
    },
    {
     "data": {
      "text/plain": [
       "fromList [(2,108),(3,62),(4,37)]"
      ]
     },
     "metadata": {},
     "output_type": "display_data"
    }
   ],
   "source": [
    "Map.fromListWith (+) [(2,3),(2,5),(2,100),(3,29),(3,22),(3,11),(4,22),(4,15)]\n",
    "Map.fromList [(2,108),(3,62),(4,37)]"
   ]
  },
  {
   "cell_type": "markdown",
   "metadata": {},
   "source": [
    "## Make Our Own Modules"
   ]
  },
  {
   "cell_type": "markdown",
   "metadata": {},
   "source": [
    "### A Geometry Module"
   ]
  },
  {
   "cell_type": "code",
   "execution_count": 50,
   "metadata": {},
   "outputs": [
    {
     "data": {
      "text/plain": [
       "27.0"
      ]
     },
     "metadata": {},
     "output_type": "display_data"
    },
    {
     "data": {
      "text/plain": [
       "33.510323"
      ]
     },
     "metadata": {},
     "output_type": "display_data"
    },
    {
     "data": {
      "text/plain": [
       "52.0"
      ]
     },
     "metadata": {},
     "output_type": "display_data"
    }
   ],
   "source": [
    "-- Must :load Geometry/Sphere.hs all files.\n",
    "\n",
    "import qualified Geometry.Sphere as Sphere\n",
    "import qualified Geometry.Cube as Cube\n",
    "import qualified Geometry.Cuboid as Cuboid\n",
    "\n",
    "Cube.volume 3.0\n",
    "Sphere.volume 2.0\n",
    "Cuboid.area 2 3 4"
   ]
  },
  {
   "cell_type": "code",
   "execution_count": null,
   "metadata": {},
   "outputs": [],
   "source": []
  }
 ],
 "metadata": {
  "kernelspec": {
   "display_name": "Haskell",
   "language": "haskell",
   "name": "haskell"
  },
  "language_info": {
   "codemirror_mode": "ihaskell",
   "file_extension": ".hs",
   "name": "haskell",
   "pygments_lexer": "Haskell",
   "version": "8.6.5"
  },
  "toc-autonumbering": true,
  "toc-showcode": false,
  "toc-showmarkdowntxt": false,
  "toc-showtags": false
 },
 "nbformat": 4,
 "nbformat_minor": 4
}
