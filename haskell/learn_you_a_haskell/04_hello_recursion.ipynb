{
 "cells": [
  {
   "cell_type": "markdown",
   "metadata": {},
   "source": [
    "# Hello Recursion!\n",
    "__Chapter 04__"
   ]
  },
  {
   "cell_type": "code",
   "execution_count": 1,
   "metadata": {},
   "outputs": [
    {
     "data": {
      "text/plain": [
       "3"
      ]
     },
     "metadata": {},
     "output_type": "display_data"
    },
    {
     "data": {
      "text/plain": [
       "55"
      ]
     },
     "metadata": {},
     "output_type": "display_data"
    },
    {
     "ename": "",
     "evalue": "",
     "header": "MessageHeader {mhIdentifiers = [\"e2920c56-db6f-4b9f-a274-5293f4eb4380\"], mhParentHeader = Just (MessageHeader {mhIdentifiers = [\"e2920c56-db6f-4b9f-a274-5293f4eb4380\"], mhParentHeader = Nothing, mhMetadata = Metadata (fromList [(\"deletedCells\",Array []),(\"cellId\",String \"8342eee4-d929-4eb2-b511-57ab883f17df\")]), mhMessageId = UUID {uuidToString = \"212c249e-4e54-4200-9dd0-e2f6f50cd2bb\"}, mhSessionId = UUID {uuidToString = \"e2920c56-db6f-4b9f-a274-5293f4eb4380\"}, mhUsername = \"\", mhMsgType = ExecuteRequestMessage}), mhMetadata = Metadata (fromList []), mhMessageId = UUID {uuidToString = \"31a56bbf-6c5f-40aa-9b60-0b74c8b75a4f\"}, mhSessionId = UUID {uuidToString = \"e2920c56-db6f-4b9f-a274-5293f4eb4380\"}, mhUsername = \"\", mhMsgType = ExecuteErrorMessage}",
     "output_type": "error",
     "traceback": [
      "maximum of empty list\nCallStack (from HasCallStack):\n  error, called at <interactive>:2:15 in interactive:Ghci2"
     ]
    }
   ],
   "source": [
    "maximum' :: (Ord a) => [a] -> a\n",
    "maximum' [] = error \"maximum of empty list\"\n",
    "maximum' [x] = x\n",
    "maximum' (x:xs) = max x (maximum' xs)\n",
    "\n",
    "maximum' [3]\n",
    "maximum' [2, 3, 55, 23]\n",
    "maximum' []"
   ]
  },
  {
   "cell_type": "markdown",
   "metadata": {},
   "source": [
    "## A Few More Recursive Functions"
   ]
  },
  {
   "cell_type": "markdown",
   "metadata": {},
   "source": [
    "### Replicate"
   ]
  },
  {
   "cell_type": "code",
   "execution_count": 2,
   "metadata": {},
   "outputs": [
    {
     "data": {
      "text/plain": [
       "[\"finger wag\",\"finger wag\",\"finger wag\",\"finger wag\"]"
      ]
     },
     "metadata": {},
     "output_type": "display_data"
    }
   ],
   "source": [
    "replicate 4 \"finger wag\""
   ]
  },
  {
   "cell_type": "code",
   "execution_count": 3,
   "metadata": {},
   "outputs": [
    {
     "data": {
      "text/plain": [
       "[2,2,2,2,2,2,2,2,2,2]"
      ]
     },
     "metadata": {},
     "output_type": "display_data"
    }
   ],
   "source": [
    "replicate' :: Int -> a -> [a]\n",
    "replicate' n x\n",
    "    | n <= 0 = []\n",
    "    | otherwise = x : replicate' (n - 1) x\n",
    "\n",
    "replicate' 10 2"
   ]
  },
  {
   "cell_type": "code",
   "execution_count": 4,
   "metadata": {},
   "outputs": [
    {
     "data": {
      "text/plain": [
       "[3,4,7]"
      ]
     },
     "metadata": {},
     "output_type": "display_data"
    }
   ],
   "source": [
    "take' :: Int -> [a] -> [a]\n",
    "take' n _\n",
    "    | n <= 0   = []\n",
    "take' _ []     = []\n",
    "take' n (x:xs) = x : take' (n - 1) xs\n",
    "\n",
    "take' 3 [3, 4, 7, 10, 0]"
   ]
  },
  {
   "cell_type": "code",
   "execution_count": 5,
   "metadata": {},
   "outputs": [
    {
     "data": {
      "text/plain": [
       "\"dlihc naM\""
      ]
     },
     "metadata": {},
     "output_type": "display_data"
    }
   ],
   "source": [
    "reverse' :: [a] -> [a]\n",
    "reverse' [] = []\n",
    "reverse' (x:xs) = reverse' xs ++ [x]\n",
    "\n",
    "reverse' \"Man child\""
   ]
  },
  {
   "cell_type": "code",
   "execution_count": 6,
   "metadata": {},
   "outputs": [],
   "source": [
    "repeat' :: a -> [a]\n",
    "repeat' x = x:repeat' x"
   ]
  },
  {
   "cell_type": "code",
   "execution_count": 8,
   "metadata": {},
   "outputs": [
    {
     "data": {
      "text/plain": [
       "[3,3,3,3,3]"
      ]
     },
     "metadata": {},
     "output_type": "display_data"
    }
   ],
   "source": [
    "take' 5 (repeat' 3)"
   ]
  },
  {
   "cell_type": "code",
   "execution_count": 9,
   "metadata": {},
   "outputs": [
    {
     "data": {
      "text/plain": [
       "[3,3,3,3,3]"
      ]
     },
     "metadata": {},
     "output_type": "display_data"
    }
   ],
   "source": [
    "replicate 5 3"
   ]
  },
  {
   "cell_type": "code",
   "execution_count": 13,
   "metadata": {},
   "outputs": [
    {
     "data": {
      "text/plain": [
       "[(1,\"Cash\"),(2,\"Riggs\"),(3,\"Lisa\"),(4,\"Heath\"),(5,\"Ada\")]"
      ]
     },
     "metadata": {},
     "output_type": "display_data"
    }
   ],
   "source": [
    "zip' :: [a] -> [b] -> [(a,b)]\n",
    "zip' _ [] = []\n",
    "zip' [] _ = []\n",
    "zip' (x:xs) (y:ys) = (x,y):zip' xs ys\n",
    "\n",
    "zip' [1, 2, 3, 4, 5, 6] [\"Cash\", \"Riggs\", \"Lisa\", \"Heath\", \"Ada\"]"
   ]
  },
  {
   "cell_type": "code",
   "execution_count": 16,
   "metadata": {},
   "outputs": [
    {
     "data": {
      "text/plain": [
       "False"
      ]
     },
     "metadata": {},
     "output_type": "display_data"
    }
   ],
   "source": [
    "elem' :: (Eq a) => a -> [a] -> Bool\n",
    "elem' a [] = False\n",
    "elem' a (x:xs)\n",
    "    | a == x    = True\n",
    "    | otherwise = a `elem'` xs\n",
    "\n",
    "elem' 2 [3, 5, 7, 8, 3]"
   ]
  },
  {
   "cell_type": "markdown",
   "metadata": {},
   "source": [
    "## Quick, Sort!"
   ]
  },
  {
   "cell_type": "raw",
   "metadata": {},
   "source": [
    "## The Quicksort Algorithm"
   ]
  },
  {
   "cell_type": "code",
   "execution_count": 20,
   "metadata": {},
   "outputs": [
    {
     "data": {
      "text/plain": [
       "[1,2,3,4,7,8,8,9,11,19]"
      ]
     },
     "metadata": {},
     "output_type": "display_data"
    }
   ],
   "source": [
    "quickSort :: (Ord a) => [a] -> [a]\n",
    "quickSort [] = []\n",
    "quickSort (x:xs) = \n",
    "    let smallerOrEqual = [a | a <- xs, a <= x]\n",
    "        larger         = [a | a <- xs, a > x]\n",
    "    in quickSort smallerOrEqual ++ [x] ++ quickSort larger\n",
    "\n",
    "\n",
    "quickSort [8, 3, 9, 4, 7, 2, 1, 8, 11, 19]"
   ]
  },
  {
   "cell_type": "code",
   "execution_count": null,
   "metadata": {},
   "outputs": [],
   "source": []
  }
 ],
 "metadata": {
  "kernelspec": {
   "display_name": "Haskell",
   "language": "haskell",
   "name": "haskell"
  },
  "language_info": {
   "codemirror_mode": "ihaskell",
   "file_extension": ".hs",
   "name": "haskell",
   "pygments_lexer": "Haskell",
   "version": "8.6.5"
  }
 },
 "nbformat": 4,
 "nbformat_minor": 4
}
