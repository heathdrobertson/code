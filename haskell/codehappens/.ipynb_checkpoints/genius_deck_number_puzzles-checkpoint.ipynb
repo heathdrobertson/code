{
 "cells": [
  {
   "cell_type": "markdown",
   "metadata": {},
   "source": [
    "# Genius Deck\n",
    "__75 Number Puzzles__"
   ]
  },
  {
   "cell_type": "markdown",
   "metadata": {},
   "source": [
    "## No. 1\n",
    "\n",
    "In each pattern below the missing number is something to do with the surrounding numbers in combination.  What are the missing numbers?"
   ]
  },
  {
   "cell_type": "code",
   "execution_count": 205,
   "metadata": {},
   "outputs": [],
   "source": [
    "let aNodes = (48, 7, 120, 2, 17, 5)\n",
    "let bNodes = (9, 18, 24, 27, 6, 8)"
   ]
  },
  {
   "cell_type": "markdown",
   "metadata": {},
   "source": [
    "## No. 42"
   ]
  },
  {
   "cell_type": "code",
   "execution_count": 207,
   "metadata": {},
   "outputs": [
    {
     "data": {
      "text/plain": [
       "[(1,4,11),(2,1,16),(2,6,5),(3,3,10),(4,5,4),(5,2,9),(6,4,3),(7,1,8),(8,3,2),(10,2,1)]"
      ]
     },
     "metadata": {},
     "output_type": "display_data"
    }
   ],
   "source": [
    "no42 :: Int -> (Int, Int, Int) -> [(Int, Int, Int)]\n",
    "no42 n (blue, orange, green) = [(x `div` blue, y `div` orange, z `div` green) | x <- [1..n], x `mod` blue == 0, y <- [1..n], y `mod` orange == 0, z <- [1..n], z `mod` green == 0, x + y + z == n]\n",
    "\n",
    "let knownValuesTotal = 34 + 36 + 37\n",
    "let ringsBlueOrangeGreen = (8, 11, 5)\n",
    "let solu = no42 knownValuesTotal ringsBlueOrangeGreen\n",
    "\n",
    "solu"
   ]
  },
  {
   "cell_type": "code",
   "execution_count": 202,
   "metadata": {},
   "outputs": [
    {
     "data": {
      "text/plain": [
       "[(6,4,3),(7,1,8)]"
      ]
     },
     "metadata": {},
     "output_type": "display_data"
    },
    {
     "data": {
      "text/plain": [
       "[(6,4,3)]"
      ]
     },
     "metadata": {},
     "output_type": "display_data"
    },
    {
     "data": {
      "text/plain": [
       "[(6,4,3)]"
      ]
     },
     "metadata": {},
     "output_type": "display_data"
    }
   ],
   "source": [
    "ringAdder :: Int -> (Int, Int, Int) -> [(Int, Int, Int)] -> [(Int, Int, Int)]\n",
    "ringAdder n (a, b, c) xs = [(x, y, z) | (x, y, z) <- xs, (a*x) + (b*y) + (c*z) == n]\n",
    "\n",
    "let ringsC1 = (2, 4, 2)\n",
    "let ringsC2 = (3, 3, 2)\n",
    "let ringsC3 = (3, 4, 1)\n",
    "\n",
    "ringAdder 34 ringsC1 solu\n",
    "ringAdder 36 ringsC2 solu\n",
    "ringAdder 37 ringsC3 solu"
   ]
  },
  {
   "cell_type": "code",
   "execution_count": null,
   "metadata": {},
   "outputs": [],
   "source": []
  }
 ],
 "metadata": {
  "kernelspec": {
   "display_name": "Haskell",
   "language": "haskell",
   "name": "haskell"
  },
  "language_info": {
   "codemirror_mode": "ihaskell",
   "file_extension": ".hs",
   "name": "haskell",
   "pygments_lexer": "Haskell",
   "version": "8.6.5"
  }
 },
 "nbformat": 4,
 "nbformat_minor": 4
}
