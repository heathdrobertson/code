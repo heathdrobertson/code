{
 "cells": [
  {
   "cell_type": "markdown",
   "metadata": {},
   "source": [
    "## Excersises\n",
    "\n",
    "### Finding the Right Triangle\n",
    "__End of Ch 1__\n",
    "\n",
    "**A common pattern in functional programming: you start with a certain set of candidate solutions, and successively apply transformations and filters to them until you’ve narrowed the possibilities down to the one solution (or several solutions) that you’re after.**"
   ]
  },
  {
   "cell_type": "markdown",
   "metadata": {},
   "source": [
    "## Links\n"
   ]
  },
  {
   "cell_type": "markdown",
   "metadata": {},
   "source": [
    "\n"
   ]
  },
  {
   "cell_type": "markdown",
   "metadata": {},
   "source": [
    "## Primary Resource \n",
    "__[Haskell.org Documentation] & [Haskell.org Language Report]__\n",
    "\n",
    "- [Haskell Documentaion](https://www.haskell.org/documentation/)\n",
    "- [Haskell Base Libraries](https://downloads.haskell.org/~ghc/latest/docs/html/libraries/base-4.13.0.0/index.html)\n",
    "- [Haskell 2010 Language Report](https://www.haskell.org/onlinereport/haskell2010/)\n",
    "- [Haskell Keywords & Symbols](0348c6637793835ec773f82ad84a1b029d20496e9b0b78e3)\n",
    "    - e.g. What does this mean: ```=>``` in Haskell documentation syntax?\n",
    "- [Haskell Documentation Syntax Reference](https://www.haskell.org/onlinereport/haskell2010/haskellch2.html#x7-140002)\n",
    "    - e.g. This explains what you are reading when reading Haskell code references or documentation.\n",
    "- [Extended Backus–Naur Form (EBNF) Metasyntax](https://en.wikipedia.org/wiki/Extended_Backus–Naur_form)\n",
    "    - Programming Documentation syntax style framework.\n",
    "[Haskell.org Documentation]: https://www.haskell.org/documentation/\n",
    "\n",
    "[Haskell.org Language Report]: https://www.haskell.org/onlinereport/haskell2010/"
   ]
  },
  {
   "cell_type": "code",
   "execution_count": null,
   "metadata": {},
   "outputs": [],
   "source": []
  }
 ],
 "metadata": {
  "kernelspec": {
   "display_name": "Haskell",
   "language": "haskell",
   "name": "haskell"
  },
  "language_info": {
   "codemirror_mode": "ihaskell",
   "file_extension": ".hs",
   "name": "haskell",
   "pygments_lexer": "Haskell",
   "version": "8.6.5"
  }
 },
 "nbformat": 4,
 "nbformat_minor": 4
}
