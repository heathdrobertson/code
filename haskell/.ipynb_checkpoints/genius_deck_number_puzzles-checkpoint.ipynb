{
 "cells": [
  {
   "cell_type": "markdown",
   "metadata": {},
   "source": [
    "# no. 42"
   ]
  },
  {
   "cell_type": "code",
   "execution_count": 154,
   "metadata": {},
   "outputs": [
    {
     "data": {
      "text/plain": [
       "[(1,4,11),(2,1,16),(2,6,5),(3,3,10),(4,5,4),(5,2,9),(6,4,3),(7,1,8),(8,3,2),(10,2,1)]"
      ]
     },
     "metadata": {},
     "output_type": "display_data"
    }
   ],
   "source": [
    "no42 :: Int -> (Int, Int, Int) -> [(Int, Int, Int)]\n",
    "no42 n (a, b, c) = [(x `div` a, y `div` b, z `div` c) | x <- [1..n], x `mod` a == 0, y <- [1..n], y `mod` b == 0, z <- [1..n], z `mod` c == 0, x + y + z == n]\n",
    "\n",
    "let solu = no42 107 (8, 11, 5)\n",
    "\n",
    "solu"
   ]
  },
  {
   "cell_type": "code",
   "execution_count": 191,
   "metadata": {},
   "outputs": [
    {
     "data": {
      "text/plain": [
       "[(6,4,3),(7,1,8)]"
      ]
     },
     "metadata": {},
     "output_type": "display_data"
    },
    {
     "data": {
      "text/plain": [
       "[(6,4,3)]"
      ]
     },
     "metadata": {},
     "output_type": "display_data"
    },
    {
     "data": {
      "text/plain": [
       "[(6,4,3)]"
      ]
     },
     "metadata": {},
     "output_type": "display_data"
    }
   ],
   "source": [
    "ringAdder :: Int -> (Int, Int, Int) -> [(Int, Int, Int)] -> [(Int, Int, Int)]\n",
    "ringAdder n (a, b, c) xs = [(x, y, z) | (x, y, z) <- xs, (a*x) + (b*y) + (c*z) == n]\n",
    "\n",
    "let ringsC1 = (2, 4, 2)\n",
    "let ringsC2 = (3, 3, 2)\n",
    "let ringsC3 = (3, 4, 1)\n",
    "\n",
    "ringAdder 34 ringsC1 solu\n",
    "ringAdder 36 ringsC2 solu\n",
    "ringAdder 37 ringsC3 solu"
   ]
  },
  {
   "cell_type": "code",
   "execution_count": 192,
   "metadata": {},
   "outputs": [
    {
     "data": {
      "text/plain": [
       "(1,2,3)"
      ]
     },
     "metadata": {},
     "output_type": "display_data"
    },
    {
     "ename": "",
     "evalue": "",
     "header": "MessageHeader {mhIdentifiers = [\"0e000461-4147-4a8f-a94e-7c5919acd2b5\"], mhParentHeader = Just (MessageHeader {mhIdentifiers = [\"0e000461-4147-4a8f-a94e-7c5919acd2b5\"], mhParentHeader = Nothing, mhMetadata = Metadata (fromList [(\"deletedCells\",Array []),(\"cellId\",String \"8755e46f-e2fa-4e9b-a9e8-42e9e39fd6a0\")]), mhMessageId = UUID {uuidToString = \"c1b1391f-b71b-4104-9bb5-a407121fa801\"}, mhSessionId = UUID {uuidToString = \"0e000461-4147-4a8f-a94e-7c5919acd2b5\"}, mhUsername = \"\", mhMsgType = ExecuteRequestMessage}), mhMetadata = Metadata (fromList []), mhMessageId = UUID {uuidToString = \"27f38631-97e0-46bb-bddb-88b4b3e6fdd1\"}, mhSessionId = UUID {uuidToString = \"0e000461-4147-4a8f-a94e-7c5919acd2b5\"}, mhUsername = \"\", mhMsgType = ExecuteErrorMessage}",
     "output_type": "error",
     "traceback": [
      "<interactive>:1:1: error:\n    • Non type-variable argument in the constraint: Num (a, b, c)\n      (Use FlexibleContexts to permit this)\n    • When checking the inferred type\n        it :: forall a b c. (Num a, Num b, Num c, Num (a, b, c)) => (a, b, c)"
     ]
    }
   ],
   "source": [
    "let c = (1, 2, 3)\n",
    "c\n",
    "\n",
    "rings * c"
   ]
  },
  {
   "cell_type": "code",
   "execution_count": null,
   "metadata": {},
   "outputs": [],
   "source": []
  }
 ],
 "metadata": {
  "kernelspec": {
   "display_name": "Haskell",
   "language": "haskell",
   "name": "haskell"
  },
  "language_info": {
   "codemirror_mode": "ihaskell",
   "file_extension": ".hs",
   "name": "haskell",
   "pygments_lexer": "Haskell",
   "version": "8.6.5"
  }
 },
 "nbformat": 4,
 "nbformat_minor": 4
}
