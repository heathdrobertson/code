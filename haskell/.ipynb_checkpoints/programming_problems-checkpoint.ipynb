{
 "cells": [
  {
   "cell_type": "markdown",
   "metadata": {},
   "source": [
    "# CH1"
   ]
  },
  {
   "cell_type": "markdown",
   "metadata": {},
   "source": [
    "1. A function that takes two numbers, multiplies each by two, then adds them together."
   ]
  },
  {
   "cell_type": "markdown",
   "metadata": {},
   "source": [
    "2. Write a function that multiplies a number by 2, but only if that number is less than or equal to 100 (because numbers bigger than 100 are big enough as it is!)."
   ]
  },
  {
   "cell_type": "markdown",
   "metadata": {},
   "source": [
    "3. Concatenate to lists using the `++` operator."
   ]
  },
  {
   "cell_type": "markdown",
   "metadata": {},
   "source": [
    "4. Add and element to the beginging of a list suing the `:` operator."
   ]
  },
  {
   "cell_type": "markdown",
   "metadata": {},
   "source": [
    "5. Retrieve the 6th element of the list \"We represent the Lolly pop Guild.\""
   ]
  },
  {
   "cell_type": "markdown",
   "metadata": {},
   "source": [
    "6. Write a list comprehension that replaces every odd number greater than 10 with \"BANG!\", and every odd number less than 10 with \"BOOM!\"."
   ]
  },
  {
   "cell_type": "markdown",
   "metadata": {},
   "source": [
    "7. Combining tuples and list comprehensions to find a right triangle that fits all of these conditions:\n",
    "- The lengths of the three sides are all integers.\n",
    "- The length of each side is less than or equal to 10.\n",
    "- The triangle’s perimeter (the sum of the side lengths) is equal to 24."
   ]
  },
  {
   "cell_type": "markdown",
   "metadata": {},
   "source": [
    "# CH2"
   ]
  },
  {
   "cell_type": "markdown",
   "metadata": {},
   "source": [
    "1. Write a function that filters out all lowercase letters from a string."
   ]
  },
  {
   "cell_type": "markdown",
   "metadata": {},
   "source": [
    "2. Write a function that uses the `read` function that receives the string representation of a float, doubles the float and returns a string representation of the answer using the `show` function."
   ]
  },
  {
   "cell_type": "markdown",
   "metadata": {},
   "source": [
    "# CH3"
   ]
  },
  {
   "cell_type": "markdown",
   "metadata": {},
   "source": [
    "1. Let’s write a simple function that checks if the number we pass to it is a 7:"
   ]
  },
  {
   "cell_type": "markdown",
   "metadata": {},
   "source": [
    "2. Write a function that takes a number and prints it out as a word if it’s between 1 and 5; otherwise, it prints \"Not between 1 and 5\"?"
   ]
  },
  {
   "cell_type": "markdown",
   "metadata": {},
   "source": [
    "3. Write a factorial function that uses recursion. Hint: start by saying that the factorial of 0 is 1. Then state that the factorial of any positive integer is that integer multiplied by the factorial of its predecessor."
   ]
  },
  {
   "cell_type": "markdown",
   "metadata": {},
   "source": [
    "4. Write a function that uses pattern matching and takes two vectors in 2D space (represented as pairs) and adds them together."
   ]
  },
  {
   "cell_type": "markdown",
   "metadata": {},
   "source": [
    "5. Write a function to extract the 3rd element from a tuple or triple (a, b, c)."
   ]
  },
  {
   "cell_type": "markdown",
   "metadata": {},
   "source": [
    "6. Make your own version of the `head` function and implement the error function."
   ]
  },
  {
   "cell_type": "markdown",
   "metadata": {},
   "source": [
    "7. Write a simple function that takes a list and prints its elements out in a wordy, inconvenient format:"
   ]
  },
  {
   "cell_type": "markdown",
   "metadata": {},
   "source": [
    "8. Write a function that uses the *as-pattern* returning the first letter of a string."
   ]
  },
  {
   "cell_type": "markdown",
   "metadata": {},
   "source": [
    "9. Using guards, write a function that takes `height` and `weight` as parameters and tells you your body mass index (BMI). Your BMI is calculated by multiplying your weight (in pounds) by 703 and dividing  by your height (in inches) squared. If your BMI is less than 18.5, you’re considered underweight. If it’s anywhere from 18.5 to 25, you’re considered normal. A BMI of 25 to 30 is overweight, and more than 30 is obese. **Formula: 703 x weight (lbs) / [height (in)]^2**"
   ]
  },
  {
   "cell_type": "markdown",
   "metadata": {},
   "source": [
    "10. Using gaurds, implement our own max function to compare two items and return the larger one."
   ]
  },
  {
   "cell_type": "markdown",
   "metadata": {},
   "source": [
    "11. Implement our own compare function using guards."
   ]
  },
  {
   "cell_type": "markdown",
   "metadata": {},
   "source": [
    "12. Rewrite your BMI function using `where` to bind a value to a variable and use that variable in place of the repeated calculation code."
   ]
  },
  {
   "cell_type": "markdown",
   "metadata": {},
   "source": [
    "13. Exploring scope in a `where` binding within a function, write a function that takes a name and greets the person nicely if it recognizes that name, but not so nicely if it doesn’t."
   ]
  },
  {
   "cell_type": "markdown",
   "metadata": {},
   "source": [
    "14. Pattern matching with `where` write a function that gets a first name and last name, and returns the initials."
   ]
  },
  {
   "cell_type": "markdown",
   "metadata": {},
   "source": [
    "15. Make a function that takes a list of weight/height pairs and returns a list of BMIs, define a function in the `where` block."
   ]
  },
  {
   "cell_type": "markdown",
   "metadata": {},
   "source": [
    "16.  Using a `let` expression in the form of `<bindings>` in `<expression>`, write a function that returns the surface area of a cylinder."
   ]
  },
  {
   "cell_type": "markdown",
   "metadata": {},
   "source": [
    "17. Write `let` expressions:\n",
    "    1. to introduce a function int local scope.\n",
    "    2. to bind several variables inline, separated with semicolons, which is helpful when you can’t align them in columns.\n",
    "    3. to quickly dismantle a tuple into components and binding those components to names."
   ]
  },
  {
   "cell_type": "markdown",
   "metadata": {},
   "source": [
    "18. Rewrite our previous example of calculating lists of weight/height pairs, but we’ll use a let expression inside a list comprehension instead of defining an auxiliary function with `where`.\n",
    "    1. Add a filter to the list comprehension that returns only the BMI's in the normal range.\n",
    "        2. The list comprehension generator is defined before the `let` binding."
   ]
  },
  {
   "cell_type": "markdown",
   "metadata": {},
   "source": [
    "19. Write a `let` expression without the `in` part of the binding, which opens the scope of the `let` expression."
   ]
  },
  {
   "cell_type": "markdown",
   "metadata": {},
   "source": [
    "20. Write a function that uses a `case` expression to selecct they day of the week via an integer."
   ]
  },
  {
   "cell_type": "markdown",
   "metadata": {},
   "source": [
    "# CH4"
   ]
  },
  {
   "cell_type": "markdown",
   "metadata": {},
   "source": [
    "1. Using recursion, rewrite a `maximum'` function takes a list of things that can be put in order (i.e., instances of the Ord type class) and returns the largest of them."
   ]
  },
  {
   "cell_type": "markdown",
   "metadata": {},
   "source": [
    "2. Implement `replicate`. `replicate` takes an `Int` and a value, and returns a list that has several repetitions of that value (namely, however many the Int specifies). For instance, replicate 3 5 returns a list of three fives: [5,5,5]."
   ]
  },
  {
   "cell_type": "markdown",
   "metadata": {},
   "source": [
    "3. Using recursion write a function that implements `take`. This function returns a specified number of elements from a specified list. For instance, take 3 [5,4,3,2,1] will return [5,4,3]. If we try to take zero or fewer elements from a list, we should get an empty list, and if we try to take anything at all from an empty list, we should get an empty list. Notice that those are our two base cases."
   ]
  },
  {
   "cell_type": "markdown",
   "metadata": {},
   "source": [
    "4. Using recursion write a `reverse` function takes a list and returns a list with the same elements, but in the reverse order. Once again, the empty list is the base case, since trying to reverse an empty list just results in the empty list."
   ]
  },
  {
   "cell_type": "markdown",
   "metadata": {},
   "source": [
    "5. Write a `zip` function for working with lists. It takes two lists and zips them together. For instance, calling zip [1,2,3] [7,8] returns [(1,7),(2,8)] (the function truncates the longer list to match the length of the shorter one). Zipping something with an empty list just returns an empty list, which gives us our base case. However, zip takes two lists as parameters, so there are actually two base cases."
   ]
  },
  {
   "cell_type": "markdown",
   "metadata": {},
   "source": [
    "6. Implement one more standard library function: `elem`. This function takes a value and a list, and checks whether the value is a member of the list. Once again, the empty list is a base case—an empty list contains no values, so it certainly can’t have the one we’re looking for. In general, the value we’re looking for might be at the head of the list if we’re lucky; otherwise, we have to check whether it’s in the tail."
   ]
  },
  {
   "cell_type": "markdown",
   "metadata": {},
   "source": [
    "7. Implement the quicksort algorithm works like this. You have a list that you want to sort, say [5,1,9,4,6,7,3]. You select the first element, which is 5, and put all the other list elements that are less than or equal to 5 on its left side. Then you take the ones that are greater than 5 and put them on its right side. "
   ]
  },
  {
   "cell_type": "markdown",
   "metadata": {},
   "source": [
    "# CH5"
   ]
  },
  {
   "cell_type": "markdown",
   "metadata": {},
   "source": [
    "1. Write a function that takes a function, and then applies it twice to some value."
   ]
  },
  {
   "cell_type": "markdown",
   "metadata": {},
   "source": [
    "2. Implement the standard library function called `zipWith`. It takes a function and two lists as parameters, and then joins the two lists by applying the function between corresponding elements."
   ]
  },
  {
   "cell_type": "markdown",
   "metadata": {},
   "source": [
    "3. Now we’ll implement another function in the standard library, called `flip`. The `flip` function takes a function and returns a function that is like our original function, but with the first two arguments flipped."
   ]
  },
  {
   "cell_type": "markdown",
   "metadata": {},
   "source": [
    "4. Use the `map` function to append an ! to strings in a list. e.g.  **[\"BIFF\", \"BANG\", \"POW\"]** to **[\"BIFF!\",\"BANG!\",\"POW!\"]**"
   ]
  },
  {
   "cell_type": "markdown",
   "metadata": {},
   "source": [
    "5. Implement the `filter ` function which takes a predicate and a list, and returns the list of elements that satisfy that predicate. (Remember that a predicate is a function that tells whether something is true or false; that is, a function that returns a Boolean value.)"
   ]
  },
  {
   "cell_type": "markdown",
   "metadata": {},
   "source": [
    "6. Write a function that finds the largest number under 100,000 that’s divisible by 3,829. To do that, `filter` a set of possibilities in which the solution lies."
   ]
  },
  {
   "cell_type": "markdown",
   "metadata": {},
   "source": [
    "7. Collatz sequences. A Collatz sequence (also known as a Collatz chain) is defined as follows:\n",
    "\n",
    "    - Start with any natural number.\n",
    "    - If the number is 1, stop.\n",
    "    - If the number is even, divide it by 2.\n",
    "    - If the number is odd, multiply it by 3 and add 1.\n",
    "    - Repeat the algorithm with the resulting number.\n",
    "  \n",
    "In essence, this gives us a chain of numbers. Mathematicians theorize that for all starting numbers, the chain will finish at the number 1."
   ]
  },
  {
   "cell_type": "markdown",
   "metadata": {},
   "source": [
    "8. For all starting numbers between 1 and 100, how many Collatz chains have a length greater than 15?"
   ]
  },
  {
   "cell_type": "markdown",
   "metadata": {},
   "source": [
    "9. Scans are used to monitor the progress of a function that can be implemented as a fold. As an exercise in using scans, let’s try answering this question: How many elements does it take for the sum of the square roots of all natural numbers to exceed 1,000?\n",
    "To get the square roots of all natural numbers, we just call map sqrt [1..]. To get the sum, we could use a fold. However, because we’re interested in how the sum progresses, we’ll use a scan instead. Once we’ve done the scan, we can check how many sums are under 1,000."
   ]
  },
  {
   "cell_type": "code",
   "execution_count": 15,
   "metadata": {},
   "outputs": [
    {
     "data": {
      "text/plain": [
       "131"
      ]
     },
     "metadata": {},
     "output_type": "display_data"
    }
   ],
   "source": [
    "sqrtSums :: Int\n",
    "sqrtSums = length (takeWhile (<1000) (scanl1 (+) (map sqrt [1..]))) + 1\n",
    "\n",
    "sqrtSums"
   ]
  },
  {
   "cell_type": "code",
   "execution_count": 20,
   "metadata": {},
   "outputs": [
    {
     "data": {
      "text/plain": [
       "1005.0942035344083"
      ]
     },
     "metadata": {},
     "output_type": "display_data"
    }
   ],
   "source": [
    "roots = sum (map sqrt [1..131])\n",
    "\n",
    "roots"
   ]
  },
  {
   "cell_type": "markdown",
   "metadata": {},
   "source": [
    "# CH6"
   ]
  },
  {
   "cell_type": "markdown",
   "metadata": {},
   "source": [
    "1. Write a function that takes a string that contains a bunch of words, and we want to know how many times each word appears in the string."
   ]
  },
  {
   "cell_type": "code",
   "execution_count": null,
   "metadata": {},
   "outputs": [],
   "source": []
  }
 ],
 "metadata": {
  "kernelspec": {
   "display_name": "Haskell",
   "language": "haskell",
   "name": "haskell"
  },
  "language_info": {
   "codemirror_mode": "ihaskell",
   "file_extension": ".hs",
   "name": "haskell",
   "pygments_lexer": "Haskell",
   "version": "8.6.5"
  }
 },
 "nbformat": 4,
 "nbformat_minor": 4
}
